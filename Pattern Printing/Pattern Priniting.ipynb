{
 "cells": [
  {
   "cell_type": "markdown",
   "id": "02b82280",
   "metadata": {},
   "source": [
    "### Problem 1 - Print n stars"
   ]
  },
  {
   "cell_type": "code",
   "execution_count": 11,
   "id": "0552f8bb",
   "metadata": {},
   "outputs": [],
   "source": [
    "# Given an Integer N. Print N stars in a single line.\n",
    "\n",
    "# For example:-\n",
    "\n",
    "# Input :-\n",
    "\n",
    "# 5\n",
    "\n",
    "# Output :-\n",
    "\n",
    "# *****"
   ]
  },
  {
   "cell_type": "code",
   "execution_count": null,
   "id": "b3970b5b",
   "metadata": {},
   "outputs": [],
   "source": [
    "def main():\n",
    "    # YOUR CODE GOES HERE\n",
    "    # Please take input and print output to standard input/output (stdin/stdout)\n",
    "    # E.g. 'input()/raw_input()' for input & 'print' for output\n",
    "    N=int(input())\n",
    "    for i in range(N):\n",
    "        print(\"*\",end=\"\")\n",
    "\n",
    "    return 0\n",
    "\n",
    "if __name__ == '__main__':\n",
    "    main()"
   ]
  },
  {
   "cell_type": "markdown",
   "id": "6814301b",
   "metadata": {},
   "source": [
    "### Problem 2 - matrix of stars"
   ]
  },
  {
   "cell_type": "markdown",
   "id": "0b959185",
   "metadata": {},
   "source": [
    "Given two integers N and M. Print a matrix of stars of N rows and M columns.\n",
    "\n",
    "For example\n",
    "\n",
    "##### Input:-\n",
    "\n",
    "3 2\n",
    "\n",
    "##### Output:-\n",
    "\n",
    "**\n",
    "\n",
    "**\n",
    "\n",
    "**\n",
    "\n"
   ]
  },
  {
   "cell_type": "code",
   "execution_count": null,
   "id": "95a433ad",
   "metadata": {},
   "outputs": [],
   "source": [
    "def main():\n",
    "    # YOUR CODE GOES HERE\n",
    "    # Please take input and print output to standard input/output (stdin/stdout)\n",
    "    # E.g. 'input()/raw_input()' for input & 'print' for output\n",
    "    N,M=map(int,input().split())\n",
    "    for i in range(N):\n",
    "        for j in range(M):\n",
    "            print(\"*\",end=\"\")\n",
    "        print()\n",
    "\n",
    "    return 0\n",
    "\n",
    "if __name__ == '__main__':\n",
    "    main()"
   ]
  },
  {
   "cell_type": "markdown",
   "id": "9b81a134",
   "metadata": {},
   "source": [
    "### Problem 3 - Stair Pattern"
   ]
  },
  {
   "cell_type": "markdown",
   "id": "65798be5",
   "metadata": {},
   "source": [
    "##### Problem Description\n",
    "\n",
    "Given an integer N, print the corresponding stair pattern for N.\n",
    "\n",
    "For example if N = 4 then stair pattern will be like:\n",
    "\n",
    "##### *\n",
    "##### **\n",
    "##### ***\n",
    "##### ****\n",
    "\n"
   ]
  },
  {
   "cell_type": "code",
   "execution_count": null,
   "id": "ae855746",
   "metadata": {},
   "outputs": [],
   "source": [
    "def main():\n",
    "    # YOUR CODE GOES HERE\n",
    "    # Please take input and print output to standard input/output (stdin/stdout)\n",
    "    # E.g. 'input()/raw_input()' for input & 'print' for output\n",
    "    N=int(input())\n",
    "    for i in range(N):\n",
    "        for j in range(i+1):\n",
    "            print(\"*\",end=\"\")\n",
    "        print()\n",
    "\n",
    "    return 0\n",
    "\n",
    "if __name__ == '__main__':\n",
    "    main()"
   ]
  },
  {
   "cell_type": "markdown",
   "id": "07d0cacb",
   "metadata": {},
   "source": [
    "### Problem 4 - Numeric Stair Pattern"
   ]
  },
  {
   "cell_type": "markdown",
   "id": "611b015b",
   "metadata": {},
   "source": [
    "##### Problem Description\n",
    "\n",
    "Given an integer N, print the corresponding pattern for N.\n",
    "\n",
    "For example if N = 4 then pattern will be like:\n",
    "\n",
    "1\n",
    "\n",
    "1 2\n",
    "\n",
    "1 2 3\n",
    "\n",
    "1 2 3 4"
   ]
  },
  {
   "cell_type": "code",
   "execution_count": null,
   "id": "d9e27680",
   "metadata": {},
   "outputs": [],
   "source": [
    "def main():\n",
    "    # YOUR CODE GOES HERE\n",
    "    # Please take input and print output to standard input/output (stdin/stdout)\n",
    "    # E.g. 'input()/raw_input()' for input & 'print' for output\n",
    "    N=int(input())\n",
    "    for i in range(1,N+1):\n",
    "        for j in range(1,i+1):\n",
    "            if(j==i):\n",
    "                print(j,end=\"\")\n",
    "            else:\n",
    "                print(j,end=\" \")\n",
    "        print()\n",
    "\n",
    "    return 0\n",
    "\n",
    "if __name__ == '__main__':\n",
    "    main()"
   ]
  },
  {
   "cell_type": "markdown",
   "id": "938d299f",
   "metadata": {},
   "source": [
    "### Problem 5 - Inverse Half pyramid pattern"
   ]
  },
  {
   "cell_type": "markdown",
   "id": "1a6c65f5",
   "metadata": {},
   "source": [
    "Given an Integer N. Print an Inverse half pyramid of N lines using '*'.\n",
    "\n",
    "For example\n",
    "\n",
    "##### Input:-\n",
    "\n",
    "5\n",
    "\n",
    "##### Output:-\n",
    "\n",
    "##### *****\n",
    "\n",
    "##### ****\n",
    "\n",
    "##### ***\n",
    "\n",
    "##### **\n",
    "\n",
    "##### *"
   ]
  },
  {
   "cell_type": "code",
   "execution_count": null,
   "id": "f08133c8",
   "metadata": {},
   "outputs": [],
   "source": [
    "def main():\n",
    "    # YOUR CODE GOES HERE\n",
    "    # Please take input and print output to standard input/output (stdin/stdout)\n",
    "    # E.g. 'input()/raw_input()' for input & 'print' for output\n",
    "    N=int(input())\n",
    "    for i in range(1,N+1):\n",
    "        for j in range(N+1-i):\n",
    "            print(\"*\",end=\"\")\n",
    "        print()\n",
    "\n",
    "    return 0\n",
    "\n",
    "if __name__ == '__main__':\n",
    "    main()"
   ]
  },
  {
   "cell_type": "markdown",
   "id": "c6bb2540",
   "metadata": {},
   "source": [
    "### Problem 6 - Skip even numbers half pyramid"
   ]
  },
  {
   "cell_type": "markdown",
   "id": "c3e7002c",
   "metadata": {},
   "source": [
    "Given an Integer N. Print N lines of Integers, each line has integers 1 to i where i is the line number. Replace all even numbers with a space.\n",
    "\n",
    "For example\n",
    "\n",
    "##### Input:-\n",
    "\n",
    "5\n",
    "\n",
    "##### Output:-\n",
    "\n",
    "1\n",
    "\n",
    "1_\n",
    "\n",
    "1_3\n",
    "\n",
    "1_3_\n",
    "\n",
    "1_3_5\n",
    "\n",
    "Here '_' represents space for explanation purpose only. You have to print space in your code.\n",
    "\n"
   ]
  },
  {
   "cell_type": "code",
   "execution_count": null,
   "id": "48d8ef84",
   "metadata": {},
   "outputs": [],
   "source": [
    "def main():\n",
    "    # YOUR CODE GOES HERE\n",
    "    # Please take input and print output to standard input/output (stdin/stdout)\n",
    "    # E.g. 'input()/raw_input()' for input & 'print' for output\n",
    "    N=int(input())\n",
    "    for i in range(1,N+1):\n",
    "        for j in range(1,i+1):\n",
    "            if(j%2!=0):\n",
    "                print(j,end=\"\")\n",
    "            else:\n",
    "                print(\" \",end=\"\")\n",
    "        print()\n",
    "\n",
    "    return 0\n",
    "\n",
    "if __name__ == '__main__':\n",
    "    main()"
   ]
  },
  {
   "cell_type": "markdown",
   "id": "201ea402",
   "metadata": {},
   "source": [
    "### Problem 7 - Two line star pattern"
   ]
  },
  {
   "cell_type": "code",
   "execution_count": 5,
   "id": "ec357530",
   "metadata": {},
   "outputs": [],
   "source": [
    "#Given an integer N (N >= 2). Print N lines with two stars ('*') in each line with N - 2 spaces in between.\n",
    "\n",
    "#For example\n",
    "\n",
    "##### Input:-\n",
    "\n",
    "#5\n",
    "\n",
    "##### Output:-\n",
    "\n",
    "# *___*\n",
    "\n",
    "# *___*\n",
    "\n",
    "# *___*\n",
    "\n",
    "# *___*\n",
    "\n",
    "# *___*\n",
    "\n",
    "# Ignore # above. Here '_' represents space for explanation purposes only. You have to print actual spaces in your code."
   ]
  },
  {
   "cell_type": "code",
   "execution_count": null,
   "id": "369178e3",
   "metadata": {},
   "outputs": [],
   "source": [
    "def main():\n",
    "    # YOUR CODE GOES HERE\n",
    "    # Please take input and print output to standard input/output (stdin/stdout)\n",
    "    # E.g. 'input()/raw_input()' for input & 'print' for output\n",
    "    N=int(input())\n",
    "    for i in range(1,N+1):\n",
    "        for j in range(1,N+1):\n",
    "            if(j==1 or j==N):\n",
    "                print(\"*\",end=\"\")\n",
    "            else:\n",
    "                print(\" \",end=\"\")\n",
    "        print()\n",
    "\n",
    "    return 0\n",
    "\n",
    "if __name__ == '__main__':\n",
    "    main()"
   ]
  },
  {
   "cell_type": "markdown",
   "id": "91bb45ab",
   "metadata": {},
   "source": [
    "### Problem 8 - Patter 20826"
   ]
  },
  {
   "cell_type": "code",
   "execution_count": 6,
   "id": "2a2634f1",
   "metadata": {},
   "outputs": [],
   "source": [
    "# Given an integer N. Print the following pattern of N lines.\n",
    "\n",
    "# Input:-\n",
    "\n",
    "# 5\n",
    "\n",
    "# Output:-\n",
    "\n",
    "# *_____*\n",
    "\n",
    "# *____*\n",
    "\n",
    "# *___*\n",
    "\n",
    "# *__*\n",
    "\n",
    "# *_*\n",
    "\n",
    "# Here '_' represents space for explanation purposes only. You have to print actual spaces in your code.\n",
    "\n"
   ]
  },
  {
   "cell_type": "code",
   "execution_count": null,
   "id": "7962036d",
   "metadata": {},
   "outputs": [],
   "source": [
    "def main():\n",
    "    # YOUR CODE GOES HERE\n",
    "    # Please take input and print output to standard input/output (stdin/stdout)\n",
    "    # E.g. 'input()/raw_input()' for input & 'print' for output\n",
    "    N=int(input())\n",
    "    for i in range(1,N+1):\n",
    "        print(\"*\",end=\"\")\n",
    "        for j in range(N+1-i):\n",
    "            print(\" \",end=\"\")\n",
    "        print(\"*\")\n",
    "\n",
    "    return 0\n",
    "\n",
    "if __name__ == '__main__':\n",
    "    main()"
   ]
  },
  {
   "cell_type": "markdown",
   "id": "870a5b09",
   "metadata": {},
   "source": [
    "### Problem 9 - Patterm 20827"
   ]
  },
  {
   "cell_type": "code",
   "execution_count": 7,
   "id": "a0851eb7",
   "metadata": {},
   "outputs": [],
   "source": [
    "# Given an integer N. Print the following pattern.\n",
    "\n",
    "# Input:-\n",
    "\n",
    "# 5\n",
    "\n",
    "# Output:-\n",
    "\n",
    "# ____* // 4 spaces\n",
    "\n",
    "# ___** // 3 spaces\n",
    "\n",
    "# __*** // 2 spaces\n",
    "\n",
    "# _**** // 1 space\n",
    "\n",
    "# ***** // 0 space"
   ]
  },
  {
   "cell_type": "code",
   "execution_count": null,
   "id": "22a94e4d",
   "metadata": {},
   "outputs": [],
   "source": [
    "def main():\n",
    "    # YOUR CODE GOES HERE\n",
    "    # Please take input and print output to standard input/output (stdin/stdout)\n",
    "    # E.g. 'input()/raw_input()' for input & 'print' for output\n",
    "    N=int(input())\n",
    "    for i in range(1,N+1):\n",
    "        for j in range(N-i):\n",
    "            print(\" \",end=\"\")\n",
    "        for j in range(1,i+1):\n",
    "            print(\"*\",end=\"\")\n",
    "        print()\n",
    "\n",
    "    return 0\n",
    "\n",
    "if __name__ == '__main__':\n",
    "    main()"
   ]
  },
  {
   "cell_type": "markdown",
   "id": "4c7e50f4",
   "metadata": {},
   "source": [
    "### Problem 10 - Inverted Numeric Pyramid"
   ]
  },
  {
   "cell_type": "markdown",
   "id": "a0d425f3",
   "metadata": {},
   "source": [
    "##### Problem Description\n",
    "\n",
    "Given an integer N, print the corresponding Numeric Inverted Half Pyramid pattern for N.\n",
    "\n",
    "For example if N = 4 then pattern will be like:\n",
    "\n",
    "1 2 3 4\n",
    "\n",
    "1 2 3\n",
    "\n",
    "1 2\n",
    "\n",
    "1"
   ]
  },
  {
   "cell_type": "code",
   "execution_count": null,
   "id": "ec3d9246",
   "metadata": {},
   "outputs": [],
   "source": [
    "def main():\n",
    "    # YOUR CODE GOES HERE\n",
    "    # Please take input and print output to standard input/output (stdin/stdout)\n",
    "    # E.g. 'input()/raw_input()' for input & 'print' for output\n",
    "    N=int(input())\n",
    "    for i in range(1,N+1):\n",
    "        for j in range(1,N+2-i):\n",
    "            if j == N+1-i:\n",
    "                print(j,end=\"\")\n",
    "            else:\n",
    "                print(j,end=\" \")\n",
    "        print()\n",
    "\n",
    "    return 0\n",
    "\n",
    "if __name__ == '__main__':\n",
    "    main()"
   ]
  },
  {
   "cell_type": "markdown",
   "id": "12485dec",
   "metadata": {},
   "source": [
    "### Problem 11 - Stair Pattern 2"
   ]
  },
  {
   "cell_type": "markdown",
   "id": "b1835e46",
   "metadata": {},
   "source": [
    "<!-- ##### Problem Description\n",
    "\n",
    "Write a program to input an integer N from user and print hollow inverted right triangle star pattern of N lines using '*'.\n",
    "\n",
    "See example for clarifications.\n",
    "\n",
    "\n",
    "\n",
    "##### Problem Constraints\n",
    "\n",
    "1 <= N <= 1000\n",
    "\n",
    "\n",
    "\n",
    "##### Input Format\n",
    "\n",
    "First line is an integer N\n",
    "\n",
    "\n",
    "\n",
    "##### Output Format\n",
    "\n",
    "N lines conatining only char '*' as per the question.\n",
    "\n",
    "*******\n",
    "*    *\n",
    "*   *\n",
    "*  *\n",
    "* *\n",
    "**\n",
    "*\n",
    " -->"
   ]
  },
  {
   "cell_type": "code",
   "execution_count": 10,
   "id": "d3039205",
   "metadata": {},
   "outputs": [],
   "source": [
    "# Problem Description\n",
    "\n",
    "# Write a program to input an integer N from user and print hollow inverted right triangle star pattern of N lines using '*'.\n",
    "\n",
    "# See example for clarifications.\n",
    "\n",
    "\n",
    "\n",
    "# Problem Constraints\n",
    "\n",
    "# 1 <= N <= 1000\n",
    "\n",
    "\n",
    "\n",
    "# Input Format\n",
    "\n",
    "# First line is an integer N\n",
    "\n",
    "\n",
    "\n",
    "# Output Format\n",
    "\n",
    "# N lines conatining only char '*' as per the question.\n",
    "\n",
    "\n",
    "\n",
    "# Example Input\n",
    "\n",
    "# Input 1:\n",
    "\n",
    "# 7\n",
    "# Input 2:\n",
    "\n",
    "# 4\n",
    "\n",
    "\n",
    "# Example Output\n",
    "\n",
    "# Output 1:\n",
    "\n",
    "# *******\n",
    "# *    *\n",
    "# *   *\n",
    "# *  *\n",
    "# * *\n",
    "# **\n",
    "# *\n",
    "# Output 2:\n",
    "\n",
    "# ****\n",
    "# * *\n",
    "# **\n",
    "# *"
   ]
  },
  {
   "cell_type": "code",
   "execution_count": null,
   "id": "f14bea36",
   "metadata": {},
   "outputs": [],
   "source": [
    "def main():\n",
    "    # YOUR CODE GOES HERE\n",
    "    # Please take input and print output to standard input/output (stdin/stdout)\n",
    "    # E.g. 'input()/raw_input()' for input & 'print' for output\n",
    "    n=int(input())\n",
    "    for i in range(1,n+1):\n",
    "        if(i==1 or i==n):\n",
    "            for j in range(1,n+2-i):\n",
    "                print(\"*\",end=\"\")\n",
    "        else:\n",
    "            for j in range(1,n+2-i):\n",
    "                if(j==1 or j==n+1-i):\n",
    "                    print(\"*\",end=\"\")\n",
    "                else:\n",
    "                    print(\" \",end=\"\")\n",
    "        print()\n",
    "    return 0\n",
    "\n",
    "if __name__ == '__main__':\n",
    "    main()"
   ]
  }
 ],
 "metadata": {
  "kernelspec": {
   "display_name": "Python 3",
   "language": "python",
   "name": "python3"
  },
  "language_info": {
   "codemirror_mode": {
    "name": "ipython",
    "version": 3
   },
   "file_extension": ".py",
   "mimetype": "text/x-python",
   "name": "python",
   "nbconvert_exporter": "python",
   "pygments_lexer": "ipython3",
   "version": "3.8.8"
  }
 },
 "nbformat": 4,
 "nbformat_minor": 5
}
