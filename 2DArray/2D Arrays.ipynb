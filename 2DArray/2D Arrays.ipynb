{
 "cells": [
  {
   "cell_type": "markdown",
   "id": "ee5abc81",
   "metadata": {},
   "source": [
    "### Problem 1 - Add the Matrices"
   ]
  },
  {
   "cell_type": "markdown",
   "id": "78f0e519",
   "metadata": {},
   "source": [
    "##### Problem Description\n",
    "\n",
    "You are given two matrices A & B of same size, you have to return another matrix which is the sum of A and B.\n",
    "\n",
    "\n",
    "\n",
    "##### Problem Constraints\n",
    "\n",
    "1 <= A.size(), B.size() <= 1000\n",
    "\n",
    "1 <= A[i].size(), B[i].size() <= 1000\n",
    "\n",
    "1 <= A[i][j], B[i][j] <= 1000\n",
    "\n",
    "\n",
    "\n",
    "##### Input Format\n",
    "\n",
    "First argument is vector of vector of integers representing matrix A.\n",
    "\n",
    "Second argument is vecotor of vector of integers representing matrix B.\n",
    "\n",
    "\n",
    "\n",
    "##### Output Format\n",
    "\n",
    "You have to return a vector of vector of integers after doing required operations.\n",
    "\n"
   ]
  },
  {
   "cell_type": "code",
   "execution_count": 1,
   "id": "7f88ff7f",
   "metadata": {},
   "outputs": [],
   "source": [
    "def solve(A, B):\n",
    "    C=[]\n",
    "    for i in range(len(A)):\n",
    "        temp=[]\n",
    "        for j in range(len(A[0])):\n",
    "            temp.append(A[i][j] + B[i][j])\n",
    "        C.append(temp)\n",
    "    return(C)"
   ]
  },
  {
   "cell_type": "markdown",
   "id": "02e9c83f",
   "metadata": {},
   "source": [
    "### Problem 2 - Matrix transpose"
   ]
  },
  {
   "cell_type": "markdown",
   "id": "3134ef18",
   "metadata": {},
   "source": [
    "##### Problem Description\n",
    "You are given a matrix A, you have to return another matrix which is the transpose of A.\n",
    "\n",
    "NOTE: Transpose of a matrix A is defined as - AT[i][j] = A[j][i] ; Where 1 ≤ i ≤ col and 1 ≤ j ≤ row\n",
    "\n",
    "\n",
    "\n",
    "##### Problem Constraints\n",
    "1 <= A.size() <= 1000\n",
    "\n",
    "1 <= A[i].size() <= 1000\n",
    "\n",
    "1 <= A[i][j] <= 1000\n",
    "\n",
    "\n",
    "\n",
    "##### Input Format\n",
    "First argument is vector of vector of integers A representing matrix.\n",
    "\n",
    "\n",
    "\n",
    "##### Output Format\n",
    "You have to return a vector of vector of integers after doing required operations."
   ]
  },
  {
   "cell_type": "code",
   "execution_count": 2,
   "id": "fba07296",
   "metadata": {},
   "outputs": [],
   "source": [
    "def solve(A):\n",
    "    B=[]\n",
    "    for i in range(len(A[0])):\n",
    "        temp=[]\n",
    "        for j in range(len(A)):\n",
    "            temp.append(A[j][i])\n",
    "        B.append(temp)\n",
    "    return(B)\n"
   ]
  },
  {
   "cell_type": "markdown",
   "id": "e231fff7",
   "metadata": {},
   "source": [
    "### Problem 3 - is it identity matrix"
   ]
  },
  {
   "cell_type": "markdown",
   "id": "445347be",
   "metadata": {},
   "source": [
    "##### Problem Description\n",
    "\n",
    "You are given a N X N square integer matrix A. You have to tell whether A is an identity matrix or not.\n",
    "\n",
    "Identity matrix is a special square matrix whose main diagonal elements are equal to 1 and all other elements are 0.\n",
    "\n",
    "\n",
    "\n",
    "##### Problem Constraints\n",
    "\n",
    "2 <= N <= 103\n",
    "\n",
    "A[i][j] equals 0 or 1.\n",
    "\n",
    "\n",
    "\n",
    "##### Input Format\n",
    "\n",
    "First and only argument is an integer matrix A.\n",
    "\n",
    "\n",
    "\n",
    "##### Output Format\n",
    "\n",
    "Return 1 if A is an identity matrix, else return 0."
   ]
  },
  {
   "cell_type": "code",
   "execution_count": 3,
   "id": "84c39a36",
   "metadata": {},
   "outputs": [],
   "source": [
    "def solve(A):\n",
    "    temp=0\n",
    "    for i in range(len(A)):\n",
    "        for j in range(len(A)):\n",
    "            if(i==j and A[i][j]==1):\n",
    "                temp+=1\n",
    "            elif(i!=j and A[i][j]==0):\n",
    "                temp+=1\n",
    "    if(temp==len(A)*len(A)):\n",
    "        return(1)\n",
    "    else:\n",
    "        return(0)\n"
   ]
  },
  {
   "cell_type": "markdown",
   "id": "247829ed",
   "metadata": {},
   "source": [
    "### Problem 4 - Matrix Subtraction"
   ]
  },
  {
   "cell_type": "markdown",
   "id": "378281ff",
   "metadata": {},
   "source": [
    "##### Problem Description\n",
    "\n",
    "You are given two integer matrices A and B having same size(Both having same number of rows (N) and columns (M)). You have to subtract matrix A from B and return the resultant matrix. (i.e. return the matrix A - B).\n",
    "\n",
    "If X and Y are two matrices of the same order (same dimensions). Then X - Y is a matrix of the same order as X and Y and its elements are obtained by subtracting the elements of Y from the corresponding elements of X. Thus if Z = [z[i][j]] = X - Y, then [z[i][j]] = [x[i][j]] – [y[i][j]].\n",
    "\n",
    "\n",
    "\n",
    "##### Problem Constraints\n",
    "\n",
    "1 <= N, M <= 103\n",
    "\n",
    "-109 <= A[i][j], B[i][j] <= 109\n",
    "\n",
    "\n",
    "\n",
    "##### Input Format\n",
    "\n",
    "First argument is a 2D integer matrix A.\n",
    "\n",
    "Second argument is a 2D integer matrix B.\n",
    "\n",
    "\n",
    "\n",
    "##### Output Format\n",
    "\n",
    "Return a 2D matrix denoting A - B."
   ]
  },
  {
   "cell_type": "code",
   "execution_count": 4,
   "id": "25078bda",
   "metadata": {},
   "outputs": [],
   "source": [
    "def solve(A, B):\n",
    "    result=[]\n",
    "    for i in range(len(A)):\n",
    "        temp=[]\n",
    "        for j in range(len(A[0])):\n",
    "            temp.append(A[i][j] - B[i][j])\n",
    "        result.append(temp)\n",
    "    return(result)"
   ]
  },
  {
   "cell_type": "markdown",
   "id": "45282a5d",
   "metadata": {},
   "source": [
    "### Problem 5 - Are matrices same"
   ]
  },
  {
   "cell_type": "markdown",
   "id": "6140b98b",
   "metadata": {},
   "source": [
    "##### Problem Description\n",
    "You are given two matrices A & B of equal dimensions and you have to check whether two matrices are equal or not.\n",
    "\n",
    "NOTE: Both matrices are equal if A[i][j] == B[i][j] for all i and j in the given range.\n",
    "\n",
    "\n",
    "\n",
    "##### Problem Constraints\n",
    "1 <= A.size(), B.size() <= 1000\n",
    "\n",
    "1 <= A[i].size(), B[i].size() <= 1000\n",
    "\n",
    "1 <= A[i][j], B[i][j] <= 1000\n",
    "\n",
    "\n",
    "\n",
    "##### Input Format\n",
    "First argument is vector of vector of integers representing matrix A.\n",
    "\n",
    "Second argument is vector of vector of integers representing matrix B.\n",
    "\n",
    "\n",
    "\n",
    "##### Output Format\n",
    "Return 1 if both matrices are equal or return 0."
   ]
  },
  {
   "cell_type": "code",
   "execution_count": 5,
   "id": "8caf56f9",
   "metadata": {},
   "outputs": [],
   "source": [
    "def solve(A, B):\n",
    "    temp=0\n",
    "    for i in range(len(A)):\n",
    "        for j in range(len(A[0])):\n",
    "            if(A[i][j]==B[i][j]):\n",
    "                temp+=1\n",
    "    if(temp==len(A)*len(A[0])):\n",
    "        return(1)\n",
    "    else:\n",
    "        return(0)"
   ]
  },
  {
   "cell_type": "markdown",
   "id": "0abac9b2",
   "metadata": {},
   "source": [
    "### Problem 6 - Row and Column Sums"
   ]
  },
  {
   "cell_type": "markdown",
   "id": "f3631c23",
   "metadata": {},
   "source": [
    "##### Problem Description\n",
    "\n",
    "You are given a matrix A, you have to return a vector containing sum of each row elements followed by each column elements of the matrix .\n",
    "\n",
    "NOTE: In the resultant vector of integers there will be rows+columns elements where ans[i] is the sum of ith row elements and ans[rows+j] is the sum of jth column.\n",
    "\n",
    "\n",
    "\n",
    "##### Problem Constraints\n",
    "\n",
    "1 <= A.size() <= 1000\n",
    "\n",
    "1 <= A[i].size() <= 1000\n",
    "\n",
    "1 <= A[i][j] <= 1000\n",
    "\n",
    "\n",
    "\n",
    "##### Input Format\n",
    "\n",
    "First argument is vector of vector of integers representing matrix A.\n",
    "\n",
    "\n",
    "\n",
    "##### Output Format\n",
    "\n",
    "You have to return a vector of integers after doing required operations.\n",
    "\n"
   ]
  },
  {
   "cell_type": "code",
   "execution_count": null,
   "id": "868f12f2",
   "metadata": {},
   "outputs": [],
   "source": [
    "def solve(A):\n",
    "    row=[]\n",
    "    col=[]\n",
    "    for i in range(len(A)):\n",
    "        temp1=0\n",
    "        for j in range(len(A[0])):\n",
    "            temp1+=(A[i][j])\n",
    "        row.append(temp1)\n",
    "\n",
    "    for i in range(len(A[0])):\n",
    "        temp2=0\n",
    "        for j in range(len(A)):\n",
    "            temp2+=A[j][i]\n",
    "        col.append(temp2)\n",
    "    for x in col:\n",
    "        row.append(x)\n",
    "    return(row)"
   ]
  }
 ],
 "metadata": {
  "kernelspec": {
   "display_name": "Python 3",
   "language": "python",
   "name": "python3"
  },
  "language_info": {
   "codemirror_mode": {
    "name": "ipython",
    "version": 3
   },
   "file_extension": ".py",
   "mimetype": "text/x-python",
   "name": "python",
   "nbconvert_exporter": "python",
   "pygments_lexer": "ipython3",
   "version": "3.8.8"
  }
 },
 "nbformat": 4,
 "nbformat_minor": 5
}
