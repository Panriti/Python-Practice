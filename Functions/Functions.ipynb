{
 "cells": [
  {
   "cell_type": "markdown",
   "id": "6a46df63",
   "metadata": {},
   "source": [
    "### Problem 1 - Add the numbers"
   ]
  },
  {
   "cell_type": "markdown",
   "id": "7303bb2e",
   "metadata": {},
   "source": [
    "##### Problem Description\n",
    "Given two numbers A & B. Return their sum.\n",
    "\n",
    "\n",
    "\n",
    "##### Problem Constraints\n",
    "1 <= A <= 107\n",
    "\n",
    "1 <= B <= 107\n",
    "\n",
    "\n",
    "\n",
    "##### Input Format\n",
    "First argument is an integer A.\n",
    "\n",
    "Second argument is an integer B.\n",
    "\n",
    "\n",
    "\n",
    "##### Output Format\n",
    "Return an integer which is the sum of A & B."
   ]
  },
  {
   "cell_type": "code",
   "execution_count": 8,
   "id": "026d6c09",
   "metadata": {},
   "outputs": [],
   "source": [
    "\n",
    "def solve(A, B):\n",
    "    return(A+B)\n"
   ]
  },
  {
   "cell_type": "markdown",
   "id": "79befed3",
   "metadata": {},
   "source": [
    "### Problem 2 - Multiply the numbers"
   ]
  },
  {
   "cell_type": "markdown",
   "id": "e5d37608",
   "metadata": {},
   "source": [
    "##### Problem Description\n",
    "\n",
    "Given two numbers A & B. Return their product.\n",
    "\n",
    "\n",
    "\n",
    "##### Problem Constraints\n",
    "\n",
    "1 <= A <= 104\n",
    "\n",
    "1 <= B <= 104\n",
    "\n",
    "\n",
    "\n",
    "##### Input Format\n",
    "\n",
    "First argument is an integer A.\n",
    "\n",
    "Second argument is an integer B.\n",
    "\n",
    "\n",
    "\n",
    "##### Output Format\n",
    "\n",
    "Return an integer which is the product of A & B."
   ]
  },
  {
   "cell_type": "code",
   "execution_count": 10,
   "id": "1d34fe88",
   "metadata": {},
   "outputs": [],
   "source": [
    "def solve(A, B):\n",
    "    return(A*B)\n"
   ]
  },
  {
   "cell_type": "markdown",
   "id": "4875cc3a",
   "metadata": {},
   "source": [
    "### Problem 3 - Division of integers"
   ]
  },
  {
   "cell_type": "markdown",
   "id": "29b9c20f",
   "metadata": {},
   "source": [
    "##### Problem Description\n",
    "\n",
    "Given two integers A and B, where A is divisible by B.\n",
    "\n",
    "Print the value of quotient of A divided by B.\n",
    "\n",
    "\n",
    "\n",
    "##### Problem Constraints\n",
    "\n",
    "-109 <= A, B <= 109\n",
    "\n",
    "\n",
    "\n",
    "##### Input Format\n",
    "\n",
    "First argument is a single integer A.\n",
    "\n",
    "Second argument is a single integer B.\n",
    "\n",
    "\n",
    "\n",
    "##### Output Format\n",
    "\n",
    "Print a single integer in a single line."
   ]
  },
  {
   "cell_type": "code",
   "execution_count": 11,
   "id": "52b12594",
   "metadata": {},
   "outputs": [],
   "source": [
    "def divide(A, B):\n",
    "    return(A//B)"
   ]
  },
  {
   "cell_type": "markdown",
   "id": "1ceb0dad",
   "metadata": {},
   "source": [
    "### Problem 4 - Square of a number"
   ]
  },
  {
   "cell_type": "markdown",
   "id": "9cf12a3f",
   "metadata": {},
   "source": [
    "##### Problem Description\n",
    "\n",
    "Given a number A. Return square of the number.\n",
    "\n",
    "\n",
    "\n",
    "##### Problem Constraints\n",
    "\n",
    "1 <= A <= 104\n",
    "\n",
    "\n",
    "\n",
    "##### Input Format\n",
    "\n",
    "First argument is an integer A.\n",
    "\n",
    "\n",
    "\n",
    "##### Output Format\n",
    "\n",
    "Return an integer which is the square of A."
   ]
  },
  {
   "cell_type": "code",
   "execution_count": 12,
   "id": "4e958513",
   "metadata": {},
   "outputs": [],
   "source": [
    "def solve(A):\n",
    "    return(A**2)"
   ]
  },
  {
   "cell_type": "markdown",
   "id": "671bc1a8",
   "metadata": {},
   "source": [
    "### Problem 5 - Square root of a number"
   ]
  },
  {
   "cell_type": "markdown",
   "id": "600605d5",
   "metadata": {},
   "source": [
    "##### Problem Description\n",
    "\n",
    "Given a number A. Return square root of the number if it is perfect square otherwise return -1.\n",
    "\n",
    "\n",
    "\n",
    "##### Problem Constraints\n",
    "\n",
    "1 <= A <= 108\n",
    "\n",
    "\n",
    "\n",
    "##### Input Format\n",
    "\n",
    "First argument is an integer A.\n",
    "\n",
    "\n",
    "\n",
    "##### Output Format\n",
    "\n",
    "Return an integer which is the square root of A if A is perfect square otherwise return -1."
   ]
  },
  {
   "cell_type": "code",
   "execution_count": 15,
   "id": "03ad6378",
   "metadata": {},
   "outputs": [],
   "source": [
    "def solve(A):\n",
    "    if(A**0.5 == int(A**0.5)):\n",
    "        return(int(A**0.5))\n",
    "    else:\n",
    "        return(-1)"
   ]
  },
  {
   "cell_type": "markdown",
   "id": "59f4294e",
   "metadata": {},
   "source": [
    "### Problem 6 - Is perfect Square?"
   ]
  },
  {
   "cell_type": "markdown",
   "id": "26454cda",
   "metadata": {},
   "source": [
    "##### Problem Description\n",
    "\n",
    "Given a number A. Return 1 if it is perfect square otherwise return 0.\n",
    "\n",
    "\n",
    "\n",
    "##### Problem Constraints\n",
    "\n",
    "1 <= A <= 108\n",
    "\n",
    "\n",
    "\n",
    "##### Input Format\n",
    "\n",
    "First line consists of a single integer T.\n",
    "\n",
    "Next, each of the test case consists of an integer A.\n",
    "\n",
    "\n",
    "\n",
    "##### Output Format\n",
    "\n",
    "Return an integer (0 or 1) based upon the question."
   ]
  },
  {
   "cell_type": "code",
   "execution_count": 16,
   "id": "f39eaca5",
   "metadata": {},
   "outputs": [],
   "source": [
    "import math\n",
    "def issquare(num):\n",
    "    if(math.sqrt(num)) == int(math.sqrt(num)):\n",
    "        return(1)\n",
    "    else:\n",
    "        return(0)\n",
    "    "
   ]
  },
  {
   "cell_type": "markdown",
   "id": "29e78bc6",
   "metadata": {},
   "source": [
    "### Problem 7 - Area of Square"
   ]
  },
  {
   "cell_type": "markdown",
   "id": "08f47c7b",
   "metadata": {},
   "source": [
    "##### Problem Description\n",
    "\n",
    "You are given a positive integer A denoting the side of a square. You have to calculate the area of the square.\n",
    "\n",
    "Area of a square having side S is given by (S * S).\n",
    "\n",
    "\n",
    "\n",
    "##### Problem Constraints\n",
    "\n",
    "1 <= A <= 1000\n",
    "\n",
    "\n",
    "\n",
    "##### Input Format\n",
    "\n",
    "First and only argument is an integer A.\n",
    "\n",
    "\n",
    "\n",
    "##### Output Format\n",
    "\n",
    "Return a single integer denoting the area of the square."
   ]
  },
  {
   "cell_type": "code",
   "execution_count": 18,
   "id": "fa009804",
   "metadata": {},
   "outputs": [],
   "source": [
    "def solve(A):\n",
    "    return(A*A)"
   ]
  },
  {
   "cell_type": "markdown",
   "id": "b60e97c8",
   "metadata": {},
   "source": [
    "### Problem 8 - Area of Circle"
   ]
  },
  {
   "cell_type": "markdown",
   "id": "a8468628",
   "metadata": {},
   "source": [
    "##### Problem Description\n",
    "\n",
    "You are given a positive integer A denoting the radius of a circle. You have to calculate the area of the circle.\n",
    "\n",
    "Arae of a circle having radius R is given by (π * R2).\n",
    "\n",
    "NOTE: Since, the answer can be a real number, you have to return the ceil value of the area. Ceil value of a real number X is the smallest integer that is greater than or equal to X.\n",
    "\n",
    "\n",
    "\n",
    "##### Problem Constraints\n",
    "\n",
    "1 <= A <= 1000\n",
    "\n",
    "\n",
    "\n",
    "##### Input Format\n",
    "\n",
    "First and only argument is an integer A.\n",
    "\n",
    "\n",
    "\n",
    "##### Output Format\n",
    "\n",
    "Return a single integer denoting the ceil value of area of the circle."
   ]
  },
  {
   "cell_type": "code",
   "execution_count": 20,
   "id": "6b6dbd41",
   "metadata": {},
   "outputs": [],
   "source": [
    "import math\n",
    "def solve(A):\n",
    "    return(math.ceil(math.pi * A*A))"
   ]
  },
  {
   "cell_type": "markdown",
   "id": "5b1986f4",
   "metadata": {},
   "source": [
    "### Problem 9 - Is it Cube?"
   ]
  },
  {
   "cell_type": "markdown",
   "id": "077ceaf3",
   "metadata": {},
   "source": [
    "##### Problem Description\n",
    "\n",
    "You are given an integer A, You have to tell whether it is a perfect cube or not.\n",
    "\n",
    "A perfect cube is an integer that is equal to some other integer raised to the third power. If X is a perfect cube of Y, then X = Y3.\n",
    "\n",
    "\n",
    "\n",
    "##### Problem Constraints\n",
    "\n",
    "1 <= A <= 109\n",
    "\n",
    "\n",
    "\n",
    "##### Input Format\n",
    "\n",
    "First and only argument is an integer A.\n",
    "\n",
    "\n",
    "##### Output Format\n",
    "\n",
    "Return 1 if A is a perfect cube, else return 0."
   ]
  },
  {
   "cell_type": "code",
   "execution_count": 21,
   "id": "b2fba988",
   "metadata": {},
   "outputs": [],
   "source": [
    "import numpy as np\n",
    "import math\n",
    "def isPerfectCube(A):\n",
    "    if((int(round(A ** (1 / 3))) ** 3 == A)==True):\n",
    "        return(1)\n",
    "    else:\n",
    "        return(0)"
   ]
  },
  {
   "cell_type": "markdown",
   "id": "2ac5f376",
   "metadata": {},
   "source": [
    "### Problem 10 - Power Function"
   ]
  },
  {
   "cell_type": "markdown",
   "id": "fcf91761",
   "metadata": {},
   "source": [
    "##### Problem Description\n",
    "\n",
    "You are given two integers A and B.\n",
    "\n",
    "You have to find the value of AB.\n",
    "\n",
    "NOTE: The value of answer is always less than or equal to 109.\n",
    "\n",
    "\n",
    "\n",
    "##### Problem Constraints\n",
    "\n",
    "1 <= A, B <= 1000\n",
    "\n",
    "\n",
    "\n",
    "##### Input Format\n",
    "\n",
    "First parameter is an integer A.\n",
    "\n",
    "Second parameter is an integer B.\n",
    "\n",
    "\n",
    "\n",
    "##### Output Format\n",
    "\n",
    "Return an integer."
   ]
  },
  {
   "cell_type": "code",
   "execution_count": 22,
   "id": "dd811aa8",
   "metadata": {},
   "outputs": [],
   "source": [
    "def power(A, B):\n",
    "    return(int(A**B))"
   ]
  },
  {
   "cell_type": "markdown",
   "id": "0807cee3",
   "metadata": {},
   "source": [
    "### Problem 11 - Cube it"
   ]
  },
  {
   "cell_type": "markdown",
   "id": "5ecfe179",
   "metadata": {},
   "source": [
    "##### Problem Description\n",
    "\n",
    "You are given an integer A.\n",
    "\n",
    "You have to find the value of cube of A i.e, A3.\n",
    "\n",
    "\n",
    "\n",
    "##### Problem Constraints\n",
    "\n",
    "1 <= A <= 1000\n",
    "\n",
    "\n",
    "\n",
    "##### Input Format\n",
    "\n",
    "First and only parameter is an integer A.\n",
    "\n",
    "\n",
    "\n",
    "##### Output Format\n",
    "\n",
    "Return an integer."
   ]
  },
  {
   "cell_type": "code",
   "execution_count": 23,
   "id": "39b1a99c",
   "metadata": {},
   "outputs": [],
   "source": [
    "def cube(A):\n",
    "    return(A**3)"
   ]
  },
  {
   "cell_type": "markdown",
   "id": "81d15ec6",
   "metadata": {},
   "source": [
    "### Problem 12 - Volume of Sphere"
   ]
  },
  {
   "cell_type": "markdown",
   "id": "55eec012",
   "metadata": {},
   "source": [
    "##### Problem Description\n",
    "\n",
    "You are given a positive integer A denoting the radius of a sphere. You have to calculate the volume of the sphere.\n",
    "\n",
    "Volume of a sphere having radius R is given by (4 * π * R3) / 3.\n",
    "\n",
    "NOTE: Since, the answer can be a real number, you have to return the ceil value of the volume. Ceil value of a real number X is the smallest integer that is greater than or equal to X.\n",
    "\n",
    "\n",
    "\n",
    "##### Problem Constraints\n",
    "\n",
    "1 <= A <= 400\n",
    "\n",
    "\n",
    "\n",
    "##### Input Format\n",
    "\n",
    "First and only argument is an integer A.\n",
    "\n",
    "\n",
    "\n",
    "##### Output Format\n",
    "\n",
    "Return a single integer denoting the ceil value of volume of the sphere."
   ]
  },
  {
   "cell_type": "code",
   "execution_count": 24,
   "id": "5e1da9c3",
   "metadata": {},
   "outputs": [],
   "source": [
    "def solve(A):\n",
    "    S=(4*3.141592653589793*A**3)/3\n",
    "    return(int(-1 * S // 1 * -1))\n"
   ]
  },
  {
   "cell_type": "markdown",
   "id": "7d825401",
   "metadata": {},
   "source": [
    "### Problem 13 - Area of Ellipse"
   ]
  },
  {
   "cell_type": "markdown",
   "id": "a9c49649",
   "metadata": {},
   "source": [
    "##### Problem Description\n",
    "\n",
    "Given the lengths of semi-major axis A and semi-minor axis B of an ellipse, calculate the Area of the Ellipse.\n",
    "\n",
    "Area of ellipse having semi-major axis length a and semi-minor axis length b is given by π * a * b.\n",
    "\n",
    "NOTE: Since, the answer can be a real number, you have to return the ceil value of the area. Ceil value of a real number X is the smallest integer that is greater than or equal to X.\n",
    "\n",
    "\n",
    "\n",
    "##### Problem Constraints\n",
    "\n",
    "1 <= B <= A <= 1000\n",
    "\n",
    "\n",
    "\n",
    "##### Input Format\n",
    "\n",
    "First argument is an integer A.\n",
    "\n",
    "Second argument is an integer B.\n",
    "\n",
    "\n",
    "\n",
    "##### Output Format\n",
    "\n",
    "Return a single integer denoting the ceil value of Area of the Ellipse."
   ]
  },
  {
   "cell_type": "code",
   "execution_count": 25,
   "id": "0f984f63",
   "metadata": {},
   "outputs": [],
   "source": [
    "def solve(A, B):\n",
    "    S=3.141592653589793*A*B\n",
    "    return(int(-1 * S // 1 * -1))"
   ]
  },
  {
   "cell_type": "markdown",
   "id": "0047da0b",
   "metadata": {},
   "source": [
    "### Problem 14 - Insert that"
   ]
  },
  {
   "cell_type": "markdown",
   "id": "db5485f9",
   "metadata": {},
   "source": [
    "##### Problem Description\n",
    "\n",
    "Write a program to input N numbers array from user and insert an element Y in it at specified position X.\n",
    "\n",
    "##### Problem Constraints\n",
    "\n",
    "1 <= N <= 100\n",
    "\n",
    "1 <= A[i] <= 1000\n",
    "\n",
    "1 <= X <= N\n",
    "\n",
    "1 <= Y <= 1000\n",
    "\n",
    "\n",
    "\n",
    "##### Input Format\n",
    "First line is N which means number of elements.\n",
    "\n",
    "Second line contains N space separated integers.\n",
    "\n",
    "Third line is X position where Y has to be inserted.\n",
    "\n",
    "Fourth line is Y which has to be inserted.\n",
    "\n",
    "\n",
    "\n",
    "##### Output Format\n",
    "N+1 space separated integers of the input array after inserting the element at required position."
   ]
  },
  {
   "cell_type": "code",
   "execution_count": null,
   "id": "5ca485d5",
   "metadata": {},
   "outputs": [],
   "source": [
    "def main():\n",
    "    # YOUR CODE GOES HERE\n",
    "    # Please take input and print output to standard input/output (stdin/stdout)\n",
    "    # E.g. 'input()/raw_input()' for input & 'print' for output\n",
    "    N=int(input())\n",
    "    M=list(map(int,input().split()))\n",
    "    X=int(input())\n",
    "    Y=int(input())\n",
    "    M.insert(X-1,Y)\n",
    "    for i in range(len(M)):\n",
    "        print(M[i],end= \" \")\n",
    "\n",
    "    return 0\n",
    "\n",
    "if __name__ == '__main__':\n",
    "    main()"
   ]
  },
  {
   "cell_type": "markdown",
   "id": "57f1b451",
   "metadata": {},
   "source": [
    "### Problem 15 - Remove that"
   ]
  },
  {
   "cell_type": "markdown",
   "id": "94437ced",
   "metadata": {},
   "source": [
    "##### Problem Description\n",
    "\n",
    "Write a program to input N numbers array from user and delete an element from it at specified position X.\n",
    "\n",
    "##### Problem Constraints\n",
    "\n",
    "1 <= N <= 100\n",
    "\n",
    "1 <= A[i] <= 1000\n",
    "\n",
    "1 <= X <= N\n",
    "\n",
    "\n",
    "\n",
    "##### Input Format\n",
    "First line is N which means number of elements.\n",
    "\n",
    "Second line contains N space separated integers.\n",
    "\n",
    "Third line is X position which has to be deleted.\n",
    "\n",
    "\n",
    "\n",
    "##### Output Format\n",
    "N-1 space separated integers of the input array after deleting the element at required position."
   ]
  },
  {
   "cell_type": "code",
   "execution_count": null,
   "id": "e210f6cf",
   "metadata": {},
   "outputs": [],
   "source": [
    "def main():\n",
    "    # YOUR CODE GOES HERE\n",
    "    # Please take input and print output to standard input/output (stdin/stdout)\n",
    "    # E.g. 'input()/raw_input()' for input & 'print' for output\n",
    "    N=int(input())\n",
    "    M=list(map(int,input().split()))\n",
    "    X=int(input())\n",
    "    M.pop(X-1)\n",
    "    for i in range(len(M)):\n",
    "        print(M[i],end=\" \")\n",
    "\n",
    "    return 0\n",
    "\n",
    "if __name__ == '__main__':\n",
    "    main()"
   ]
  },
  {
   "cell_type": "markdown",
   "id": "acc3a8e8",
   "metadata": {},
   "source": [
    "### Problem 16 - Sum the array"
   ]
  },
  {
   "cell_type": "markdown",
   "id": "a275360b",
   "metadata": {},
   "source": [
    "##### Problem Description\n",
    "\n",
    "Write a program to print sum of elements of the input array A of size N where you have to take integer N and further N elements as input from user.\n",
    "\n",
    "\n",
    "\n",
    "##### Problem Constraints\n",
    "\n",
    "1 <= N <= 1000\n",
    "\n",
    "1 <= A <= 1000\n",
    "\n",
    "\n",
    "\n",
    "##### Input Format\n",
    "\n",
    "A single line representing N followed by N integers of the array A\n",
    "\n",
    "\n",
    "\n",
    "##### Output Format\n",
    "\n",
    "A single integer containing sum of elements from the input array."
   ]
  },
  {
   "cell_type": "code",
   "execution_count": null,
   "id": "24c540e2",
   "metadata": {},
   "outputs": [],
   "source": [
    "def main():\n",
    "    # YOUR CODE GOES HERE\n",
    "    # Please take input and print output to standard input/output (stdin/stdout)\n",
    "    # E.g. 'input()/raw_input()' for input & 'print' for output\n",
    "    A=list(map(int,input().split()))\n",
    "    print(sum([x for x in A[1:]]))\n",
    "\n",
    "    return 0\n",
    "\n",
    "if __name__ == '__main__':\n",
    "    main()"
   ]
  },
  {
   "cell_type": "code",
   "execution_count": null,
   "id": "ade97fbe",
   "metadata": {},
   "outputs": [],
   "source": []
  }
 ],
 "metadata": {
  "kernelspec": {
   "display_name": "Python 3",
   "language": "python",
   "name": "python3"
  },
  "language_info": {
   "codemirror_mode": {
    "name": "ipython",
    "version": 3
   },
   "file_extension": ".py",
   "mimetype": "text/x-python",
   "name": "python",
   "nbconvert_exporter": "python",
   "pygments_lexer": "ipython3",
   "version": "3.8.8"
  }
 },
 "nbformat": 4,
 "nbformat_minor": 5
}
