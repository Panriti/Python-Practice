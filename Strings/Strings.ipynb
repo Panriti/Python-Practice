{
 "cells": [
  {
   "cell_type": "markdown",
   "id": "3f174be9",
   "metadata": {},
   "source": [
    "### Problem 1 - Vowles vs Consonants"
   ]
  },
  {
   "cell_type": "markdown",
   "id": "84b6f73e",
   "metadata": {},
   "source": [
    "##### Problem Description\n",
    "\n",
    "Write a program to input T strings (S) from user and print count of vowels and consonants in it.\n",
    "\n",
    "\n",
    "\n",
    "##### Problem Constraints\n",
    "\n",
    "1 <= T <= 100\n",
    "\n",
    "1 <= S.size() <= 1000\n",
    "\n",
    "\n",
    "\n",
    "##### Input Format\n",
    "\n",
    "First line is T which means number of test cases.\n",
    "\n",
    "Each next T lines contain a lowercase string S.\n",
    "\n",
    "\n",
    "\n",
    "##### Output Format\n",
    "\n",
    "T lines each containing two space separated integers representing cont of vowels and consonants in input string."
   ]
  },
  {
   "cell_type": "code",
   "execution_count": null,
   "id": "a0290251",
   "metadata": {},
   "outputs": [],
   "source": [
    "def main():\n",
    "    # YOUR CODE GOES HERE\n",
    "    # Please take input and print output to standard input/output (stdin/stdout)\n",
    "    # E.g. 'input()/raw_input()' for input & 'print' for output\n",
    "    T=int(input())\n",
    "    for i in range(T):\n",
    "        vow=0\n",
    "        con=0\n",
    "        S=input()\n",
    "        for x in S:\n",
    "            if(x in \"aeiouAEIOU\"):\n",
    "                vow+=1\n",
    "            else:\n",
    "                con+=1\n",
    "        print(vow,end=\" \")\n",
    "        print(con)\n",
    "\n",
    "    return 0\n",
    "\n",
    "if __name__ == '__main__':\n",
    "    main()"
   ]
  },
  {
   "cell_type": "markdown",
   "id": "5b7aebb8",
   "metadata": {},
   "source": [
    "### Problem 2 - Length of String"
   ]
  },
  {
   "cell_type": "markdown",
   "id": "df70b208",
   "metadata": {},
   "source": [
    "##### Problem Description\n",
    "You have a string (A).\n",
    "\n",
    "You have to return length of input string.\n",
    "\n",
    "\n",
    "\n",
    "##### Problem Constraints\n",
    "1 <= A.size() <= 1000\n",
    "\n",
    "\n",
    "\n",
    "##### Input Format\n",
    "First and only argument containing a lowercase string A.\n",
    "\n",
    "\n",
    "\n",
    "##### Output Format\n",
    "You have to return an integer as per the question."
   ]
  },
  {
   "cell_type": "code",
   "execution_count": 1,
   "id": "079000d5",
   "metadata": {},
   "outputs": [],
   "source": [
    "def solve(A):\n",
    "    return(len(A))\n"
   ]
  },
  {
   "cell_type": "markdown",
   "id": "a3074074",
   "metadata": {},
   "source": [
    "### Problem 3 - Is it Palindrome"
   ]
  },
  {
   "cell_type": "markdown",
   "id": "d8073d41",
   "metadata": {},
   "source": [
    "##### Problem Description\n",
    "\n",
    "Write a program to input T strings (S) from user and print 1 if it is palindrome otherwise print 0. NOTE:A string is palindrome if it reads the same from backward as from forward.\n",
    "\n",
    "\n",
    "\n",
    "##### Problem Constraints\n",
    "\n",
    "1 <= T <= 100\n",
    "\n",
    "1 <= S.size() <= 1000\n",
    "\n",
    "\n",
    "\n",
    "##### Input Format\n",
    "\n",
    "First line is T which means number of test cases.\n",
    "\n",
    "Each next T lines contain a string S.\n",
    "\n",
    "\n",
    "\n",
    "##### Output Format\n",
    "\n",
    "T lines each containing either 0 or 1."
   ]
  },
  {
   "cell_type": "code",
   "execution_count": null,
   "id": "a70dd099",
   "metadata": {},
   "outputs": [],
   "source": [
    "def main():\n",
    "    # YOUR CODE GOES HERE\n",
    "    # Please take input and print output to standard input/output (stdin/stdout)\n",
    "    # E.g. 'input()/raw_input()' for input & 'print' for output\n",
    "    T=int(input())\n",
    "    for i in range(T):\n",
    "        C=\"\"\n",
    "        S=input()\n",
    "        for i in range(len(S)):\n",
    "            C+=(S[len(S)-i-1])\n",
    "        if(C==S):\n",
    "            print(1)\n",
    "        else:\n",
    "            print(0)\n",
    "\n",
    "\n",
    "    return 0\n",
    "\n",
    "if __name__ == '__main__':\n",
    "    main()"
   ]
  },
  {
   "cell_type": "markdown",
   "id": "c82fdb45",
   "metadata": {},
   "source": [
    "### Problem 4 - Trim from ends"
   ]
  },
  {
   "cell_type": "markdown",
   "id": "a348742a",
   "metadata": {},
   "source": [
    "##### Problem Description\n",
    "\n",
    "You are given a character string A. You to trim(remove) both leading and trailing asterisk characters('*') in the string and return the resultant string.\n",
    "\n",
    "\n",
    "\n",
    "##### Problem Constraints\n",
    "\n",
    "1 <= |A| <= 105\n",
    "\n",
    "A[i] ∈ ['a'-'z', '*']\n",
    "\n",
    "\n",
    "\n",
    "##### Input Format\n",
    "\n",
    "First and only argument is a character string A.\n",
    "\n",
    "\n",
    "\n",
    "##### Output Format\n",
    "\n",
    "Return a character string denoting the resultant string after trimming.\n",
    "\n"
   ]
  },
  {
   "cell_type": "code",
   "execution_count": 3,
   "id": "d6b97d7b",
   "metadata": {},
   "outputs": [],
   "source": [
    "def solve(A):\n",
    "    return(A.strip(\"*\"))"
   ]
  },
  {
   "cell_type": "markdown",
   "id": "cba96689",
   "metadata": {},
   "source": [
    "### Problem 5 - Reverse String"
   ]
  },
  {
   "cell_type": "markdown",
   "id": "be79d088",
   "metadata": {},
   "source": [
    "Problem Description\n",
    "Write a program to reverse the words present in a string. Everything else should be preserved.\n",
    "Check example input/output. Note: There are no punctuation and special characters in the string.\n",
    "The string will only contain alphanumeric characters and spaces."
   ]
  },
  {
   "cell_type": "code",
   "execution_count": null,
   "id": "c093f174",
   "metadata": {},
   "outputs": [],
   "source": [
    "def main():\n",
    "    # YOUR CODE GOES HERE\n",
    "    # Please take input and print output to standard input/output (stdin/stdout)\n",
    "    # E.g. 'input()/raw_input()' for input & 'print' for output\n",
    "    A=input()\n",
    "    B=A.split()\n",
    "    for i in range(len(B)):\n",
    "        if(i<len(B)-1):\n",
    "            print(B[i][::-1],end=\" \")\n",
    "        else:\n",
    "            print(B[i][::-1],end=\"\")\n",
    "\n",
    "    return 0\n",
    "\n",
    "if __name__ == '__main__':\n",
    "    main()"
   ]
  },
  {
   "cell_type": "markdown",
   "id": "a23e4b0f",
   "metadata": {},
   "source": [
    "### Problem 6 - Reverse the word"
   ]
  },
  {
   "cell_type": "markdown",
   "id": "ae7a4c1d",
   "metadata": {},
   "source": [
    "##### Problem Description\n",
    "You are given lowercase string (A) and you have to return after reversing that.\n",
    "\n",
    "\n",
    "\n",
    "##### Problem Constraints\n",
    "1 <= S.size() <= 1000\n",
    "\n"
   ]
  },
  {
   "cell_type": "code",
   "execution_count": 4,
   "id": "95c7b8b9",
   "metadata": {},
   "outputs": [],
   "source": [
    "def solve(A):\n",
    "    B=A[::-1]\n",
    "    return(B)\n"
   ]
  },
  {
   "cell_type": "markdown",
   "id": "cc1c2624",
   "metadata": {},
   "source": [
    "### Problem 7 - First Occurence"
   ]
  },
  {
   "attachments": {
    "11491.png": {
     "image/png": "[encoded data removed]"
    }
   },
   "cell_type": "markdown",
   "id": "4d0bda38",
   "metadata": {},
   "source": [
    "##### Problem Description\n",
    "\n",
    "You are given a character string A, having length N and an integer ASCII code B.\n",
    "\n",
    "You have to tell the leftmost occurrence of the character having ASCII code equal to B, in A or report that it does not exist.\n",
    "![11491.png](attachment:11491.png)\n",
    "\n",
    "\n",
    "\n",
    "                                              \n",
    "\n",
    "\n",
    "\n",
    "\n",
    "##### Problem Constraints\n",
    "\n",
    "1 <= N <= 105\n",
    "\n",
    "A[i] ∈ ['a'-'z']\n",
    "\n",
    "97 <= B <= 122\n",
    "\n",
    "\n",
    "\n",
    "##### Input Format\n",
    "\n",
    "First argument is a character string A.\n",
    "\n",
    "Second argument is an integer B.\n",
    "\n",
    "\n",
    "\n",
    "##### Output Format\n",
    "\n",
    "If there exists an occurrence, return the leftmost index(0 - based), else return -1."
   ]
  },
  {
   "cell_type": "code",
   "execution_count": 5,
   "id": "85489868",
   "metadata": {},
   "outputs": [],
   "source": [
    "def solve(A, B):\n",
    "    for i in range(len(A)):\n",
    "        s=chr(B)\n",
    "        if(s==A[i]):\n",
    "            return(i)\n",
    "            break\n",
    "    return(-1)"
   ]
  },
  {
   "cell_type": "markdown",
   "id": "df97b7f9",
   "metadata": {},
   "source": [
    "### Problem 8 - First occurence of word"
   ]
  },
  {
   "cell_type": "markdown",
   "id": "6474752a",
   "metadata": {},
   "source": [
    "##### Problem Description\n",
    "\n",
    "You are given two character strings A and B.\n",
    "\n",
    "You have to find the first occurrence of string B in string A, as a substring, and return the starting position of first occurrence.\n",
    "\n",
    "A substring is a contiguous sequence of characters within a string. For e.g \"at\" is a substring in \"catalogue\".\n",
    "\n",
    "\n",
    "\n",
    "##### Problem Constraints\n",
    "\n",
    "1 <= |A|, |B| <= 1000\n",
    "\n",
    "A[i], B[i] ∈ ['a'-'z']\n",
    "\n",
    "\n",
    "\n",
    "##### Input Format\n",
    "\n",
    "First argument is a character string A.\n",
    "\n",
    "Second argument is a character string B.\n",
    "\n",
    "\n",
    "\n",
    "##### Output Format\n",
    "\n",
    "Return an integer denoting the starting position of first occurrence, or return -1 to report that there is no such occurrence."
   ]
  },
  {
   "cell_type": "code",
   "execution_count": 6,
   "id": "9a865420",
   "metadata": {},
   "outputs": [],
   "source": [
    "def solve(A, B):\n",
    "    if B in A:\n",
    "        return(A.index(B)+1)\n",
    "    else:\n",
    "        return(-1)"
   ]
  },
  {
   "cell_type": "code",
   "execution_count": null,
   "id": "50fef774",
   "metadata": {},
   "outputs": [],
   "source": []
  }
 ],
 "metadata": {
  "kernelspec": {
   "display_name": "Python 3",
   "language": "python",
   "name": "python3"
  },
  "language_info": {
   "codemirror_mode": {
    "name": "ipython",
    "version": 3
   },
   "file_extension": ".py",
   "mimetype": "text/x-python",
   "name": "python",
   "nbconvert_exporter": "python",
   "pygments_lexer": "ipython3",
   "version": "3.8.8"
  }
 },
 "nbformat": 4,
 "nbformat_minor": 5
}
