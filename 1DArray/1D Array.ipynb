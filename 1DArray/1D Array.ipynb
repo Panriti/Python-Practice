{
 "cells": [
  {
   "cell_type": "markdown",
   "id": "147acf15",
   "metadata": {},
   "source": [
    "### Problem 1 - Copy the array"
   ]
  },
  {
   "cell_type": "markdown",
   "id": "9cefe1cc",
   "metadata": {},
   "source": [
    "##### Problem Description\n",
    "\n",
    "You are given a constant array A and an integer B.\n",
    "\n",
    "You are required to return another array where outArr[i] = A[i] + B.\n",
    "\n",
    "\n",
    "\n",
    "##### Problem Constraints\n",
    "\n",
    "1 <= A.size() <= 10000\n",
    "\n",
    "1 <= A[i] <= 10000\n",
    "\n",
    "1 <= B <= 10000\n",
    "\n",
    "\n",
    "\n",
    "##### Input Format\n",
    "\n",
    "First argument is a constant array A.\n",
    "\n",
    "Second argument is an integer B.\n",
    "\n",
    "\n",
    "\n",
    "##### Output Format\n",
    "\n",
    "You have to return an integer array."
   ]
  },
  {
   "cell_type": "code",
   "execution_count": 1,
   "id": "3e4ebd80",
   "metadata": {},
   "outputs": [],
   "source": [
    "def solve(A, B):\n",
    "    C=[]\n",
    "    for x in A:\n",
    "        C.append(x+B)\n",
    "    return(C)\n"
   ]
  },
  {
   "cell_type": "markdown",
   "id": "fe46ee89",
   "metadata": {},
   "source": [
    "### Problem 2- Max and Min of an array"
   ]
  },
  {
   "cell_type": "markdown",
   "id": "d6b3257e",
   "metadata": {},
   "source": [
    "##### Problem Description\n",
    "\n",
    "Write a program to print maximum and minimum elements of the input array A of size N where you have to take integer N and other N elements as input from the user.\n",
    "\n",
    "\n",
    "\n",
    "##### Problem Constraints\n",
    "\n",
    "1 <= N <= 1000\n",
    "\n",
    "1 <= A <= 1000\n",
    "\n",
    "\n",
    "\n",
    "##### Input Format\n",
    "\n",
    "A single line representing N followed by N integers of the array A\n",
    "\n",
    "\n",
    "\n",
    "##### Output Format\n",
    "\n",
    "A single line containing two space separated integers representing maximum and minimum elements of the input array.\n",
    "\n"
   ]
  },
  {
   "cell_type": "code",
   "execution_count": 3,
   "id": "3b5a8310",
   "metadata": {},
   "outputs": [
    {
     "name": "stdout",
     "output_type": "stream",
     "text": [
      "3 1 2 3\n",
      "3 1\n"
     ]
    }
   ],
   "source": [
    "def main():\n",
    "    # YOUR CODE GOES HERE\n",
    "    # Please take input and print output to standard input/output (stdin/stdout)\n",
    "    # E.g. 'input()/raw_input()' for input & 'print' for output\n",
    "    from array import array\n",
    "    A=array(\"i\",list(map(int,input().split())))\n",
    "    print(max(A[1:]),min(A[1:]))\n",
    "    return 0\n",
    "\n",
    "if __name__ == '__main__':\n",
    "    main()"
   ]
  },
  {
   "cell_type": "markdown",
   "id": "3d0a0b26",
   "metadata": {},
   "source": [
    "### Problem 3 - Search Element"
   ]
  },
  {
   "cell_type": "markdown",
   "id": "97dfa365",
   "metadata": {},
   "source": [
    "##### Problem Description\n",
    "You are given an integer T (number of test cases). You are given array A and an integer B for each test case. You have to tell whether B is present in array A or not.\n",
    "\n",
    "\n",
    "\n",
    "##### Problem Constraints\n",
    "1 <= T <= 10\n",
    "\n",
    "1 <= |A| <= 105\n",
    "\n",
    "1 <= A[i], B <= 109\n",
    "\n",
    "\n",
    "\n",
    "##### Input Format\n",
    "First line of the input contains a single integer T.\n",
    "\n",
    "Next, each of the test case consists of 2 lines:\n",
    "\n",
    "First line begins with an integer |A| denoting the length of array, and then |A| integers denote the array elements.\n",
    "Second line contains a single integer B\n",
    "\n",
    "\n",
    "##### Output Format\n",
    "For each test case, print on a separate line 1 if the element exists, else print 0."
   ]
  },
  {
   "cell_type": "code",
   "execution_count": null,
   "id": "3e8c1a14",
   "metadata": {},
   "outputs": [],
   "source": [
    "def main():\n",
    "    # YOUR CODE GOES HERE\n",
    "    # Please take input and print output to standard input/output (stdin/stdout)\n",
    "    # E.g. 'input()/raw_input()' for input & 'print' for output\n",
    "    T=int(input())\n",
    "    from array import array\n",
    "    for i in range(T):\n",
    "        A=array(\"i\",list(map(int,input().split())))\n",
    "        B=int(input())\n",
    "        if(B in A[1:]):\n",
    "            print(1)\n",
    "        else:\n",
    "            print(0)\n",
    "\n",
    "    return 0\n",
    "\n",
    "if __name__ == '__main__':\n",
    "    main()"
   ]
  },
  {
   "cell_type": "markdown",
   "id": "9ef16cc0",
   "metadata": {},
   "source": [
    "### Problem 4 - Negative Integers"
   ]
  },
  {
   "cell_type": "markdown",
   "id": "e52ca8c6",
   "metadata": {},
   "source": [
    "##### Problem Description\n",
    "\n",
    "Write a program to print all negative numbers from input array A of size N where you have to take integer N and further N elements as input from user.\n",
    "\n",
    "\n",
    "\n",
    "##### Problem Constraints\n",
    "\n",
    "1 <= N <= 1000\n",
    "\n",
    "\n",
    "\n",
    "-1000 <= A <= 1000\n",
    "\n",
    "\n",
    "\n",
    "##### Input Format\n",
    "\n",
    "A single line representing N followed by N integers of the array A\n",
    "\n",
    "\n",
    "\n",
    "##### Output Format\n",
    "\n",
    "A single line containing elements from the input array which are negative in the same order.\n",
    "\n"
   ]
  },
  {
   "cell_type": "code",
   "execution_count": null,
   "id": "d7b6adfc",
   "metadata": {},
   "outputs": [],
   "source": [
    "def main():\n",
    "    # YOUR CODE GOES HERE\n",
    "    # Please take input and print output to standard input/output (stdin/stdout)\n",
    "    # E.g. 'input()/raw_input()' for input & 'print' for output\n",
    "    A=list(map(int,input().split()))\n",
    "    for x in A[1:]:\n",
    "        if(x<0):\n",
    "            print(x,end=\" \")\n",
    "\n",
    "\n",
    "    return 0\n",
    "\n",
    "if __name__ == '__main__':\n",
    "    main()"
   ]
  },
  {
   "cell_type": "markdown",
   "id": "bb28f153",
   "metadata": {},
   "source": [
    "### Problem 5 - Even Odd Elements"
   ]
  },
  {
   "cell_type": "markdown",
   "id": "0006bc74",
   "metadata": {},
   "source": [
    "##### Problem Description\n",
    "\n",
    "You are given T(number of test cases) integer arrays. For each array A, you have to find the value of absolute difference between the counts of even and odd elements in the array.\n",
    "\n",
    "\n",
    "\n",
    "##### Problem Constraints\n",
    "\n",
    "1 <= T <= 10\n",
    "\n",
    "1 <= |A| <= 105\n",
    "\n",
    "1 <= A[i] <= 109\n",
    "\n",
    "\n",
    "\n",
    "##### Input Format\n",
    "\n",
    "First line contains a single integer T.\n",
    "\n",
    "Each of the next T lines begin with an integer denoting the length of the array A (|A|), followed by |A| integers which indicate the elements in the array.\n",
    "\n",
    "\n",
    "\n",
    "##### Output Format\n",
    "\n",
    "For each test case, print an integer in a separate line."
   ]
  },
  {
   "cell_type": "code",
   "execution_count": null,
   "id": "aaf0bde2",
   "metadata": {},
   "outputs": [],
   "source": [
    "def main():\n",
    "    # YOUR CODE GOES HERE\n",
    "    # Please take input and print output to standard input/output (stdin/stdout)\n",
    "    # E.g. 'input()/raw_input()' for input & 'print' for output\n",
    "    T=int(input())\n",
    "    for i in range(T):\n",
    "        even=0\n",
    "        odd=0\n",
    "        A=list(map(int,input().split()))\n",
    "        for x in A[1:]:\n",
    "            if(x%2==0):\n",
    "                even+=1\n",
    "            else:\n",
    "                odd+=1\n",
    "        print(abs(even-odd))\n",
    "\n",
    "    return 0\n",
    "\n",
    "if __name__ == '__main__':\n",
    "    main()"
   ]
  },
  {
   "cell_type": "markdown",
   "id": "addc1580",
   "metadata": {},
   "source": [
    "### Problem 6 - Separate odd even"
   ]
  },
  {
   "cell_type": "markdown",
   "id": "569360c0",
   "metadata": {},
   "source": [
    "##### Problem Description\n",
    "You are given an integer T denoting the number of test cases. For each test case, you are given an integer array A.\n",
    "\n",
    "You have to put the odd and even elements of array A in 2 separate arrays and print the new arrays.\n",
    "\n",
    "NOTE: Array elements should have the same relative order as in A.\n",
    "\n",
    "\n",
    "\n",
    "##### Problem Constraints\n",
    "1 <= T <= 10\n",
    "\n",
    "1 <= |A| <= 105\n",
    "\n",
    "1 <= A[i] <= 109\n",
    "\n",
    "\n",
    "\n",
    "##### Input Format\n",
    "First line of the input contains a single integer T.\n",
    "\n",
    "For each test case:\n",
    "\n",
    "First line consists of a single integer |A| denoting the length of array.\n",
    "Second line consists of |A| space separated integers denoting the elements of array A.\n",
    "\n",
    "\n",
    "##### Output Format\n",
    "For each test case:\n",
    "\n",
    "First line should contain an array of space separated integers containing all the odd elements of array A\n",
    "Second line should contain an array of space separated integers containing all the even elements of array A"
   ]
  },
  {
   "cell_type": "code",
   "execution_count": null,
   "id": "05480245",
   "metadata": {},
   "outputs": [],
   "source": [
    "def main():\n",
    "    # YOUR CODE GOES HERE\n",
    "    # Please take input and print output to standard input/output (stdin/stdout)\n",
    "    # E.g. 'input()/raw_input()' for input & 'print' for output\n",
    "    T=int(input())\n",
    "    for i in range(T):\n",
    "        N=int(input())\n",
    "        A=list(map(int,input().split()))\n",
    "        odd=[]\n",
    "        even=[]\n",
    "        for x in A:\n",
    "            if(x%2==0):\n",
    "                even.append(x)\n",
    "            else:\n",
    "                odd.append(x)\n",
    "        for x in odd:\n",
    "            print(x,end=\" \")\n",
    "        print()\n",
    "        for x in even:\n",
    "            print(x,end=\" \")\n",
    "        print()\n",
    "\n",
    "    return 0\n",
    "\n",
    "if __name__ == '__main__':\n",
    "    main()"
   ]
  },
  {
   "cell_type": "markdown",
   "id": "dc8cba60",
   "metadata": {},
   "source": [
    "### Problem 7 - Square of array"
   ]
  },
  {
   "cell_type": "markdown",
   "id": "f39e4012",
   "metadata": {},
   "source": [
    "##### Problem Description\n",
    "You are provided with an integer array A. Return another array B of size same as that of A such that B[i] = A[i]2 for 1 <= i <= |A| (1 based indexing).\n",
    "\n",
    "\n",
    "\n",
    "##### Problem Constraints\n",
    "1 <= |A| <= 106\n",
    "1 <= A[i] <= 109\n",
    "\n",
    "\n",
    "##### Input Format\n",
    "The first and only argument is an integer array A.\n",
    "\n",
    "\n",
    "##### Output Format\n",
    "Return array B.\n"
   ]
  },
  {
   "cell_type": "code",
   "execution_count": 5,
   "id": "b0948498",
   "metadata": {},
   "outputs": [],
   "source": [
    "def solve(A):\n",
    "    B=[]\n",
    "    for x in A:\n",
    "        B.append(x*x)\n",
    "    return(B)"
   ]
  },
  {
   "cell_type": "markdown",
   "id": "c94d4a56",
   "metadata": {},
   "source": [
    "### Problem 8 - Cube of Array"
   ]
  },
  {
   "cell_type": "markdown",
   "id": "fb3893e5",
   "metadata": {},
   "source": [
    "##### Problem Description\n",
    "You are provided with an integer array A. Return another array B of size same as that of A such that B[i] = A[i]3 for 1 <= i <= |A| (1 based indexing).\n",
    "\n",
    "\n",
    "##### Problem Constraints\n",
    "1 <= |A| <= 106\n",
    "1 <= A[i] <= 106\n",
    "\n",
    "\n",
    "##### Input Format\n",
    "The first and only argument is an integer array A.\n",
    "\n",
    "\n",
    "##### Output Format\n",
    "Return array B."
   ]
  },
  {
   "cell_type": "code",
   "execution_count": 6,
   "id": "ead701c1",
   "metadata": {},
   "outputs": [],
   "source": [
    "def solve(A):\n",
    "    B=[]\n",
    "    for x in A:\n",
    "        B.append(x**3)\n",
    "    return(B)\n"
   ]
  },
  {
   "cell_type": "code",
   "execution_count": null,
   "id": "db4371bc",
   "metadata": {},
   "outputs": [],
   "source": []
  }
 ],
 "metadata": {
  "kernelspec": {
   "display_name": "Python 3",
   "language": "python",
   "name": "python3"
  },
  "language_info": {
   "codemirror_mode": {
    "name": "ipython",
    "version": 3
   },
   "file_extension": ".py",
   "mimetype": "text/x-python",
   "name": "python",
   "nbconvert_exporter": "python",
   "pygments_lexer": "ipython3",
   "version": "3.8.8"
  }
 },
 "nbformat": 4,
 "nbformat_minor": 5
}
