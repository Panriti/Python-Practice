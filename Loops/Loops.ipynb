{
 "cells": [
  {
   "cell_type": "markdown",
   "id": "eea52538",
   "metadata": {},
   "source": [
    "### Problem 1 - Count the digits"
   ]
  },
  {
   "cell_type": "markdown",
   "id": "fab04924",
   "metadata": {},
   "source": [
    "##### Problem Description\n",
    "\n",
    "Write a program to input T numbers(N) from user and print count of digits of the given numbers.\n",
    "\n",
    "\n",
    "\n",
    "##### Problem Constraints\n",
    "\n",
    "1 <= T <= 100\n",
    "\n",
    "0 <= N <= 100000000\n",
    "\n",
    "\n",
    "\n",
    "##### Input Format\n",
    "\n",
    "First line is T which means number of test cases.\n",
    "\n",
    "Each next N lines contain an integer N.\n",
    "\n",
    "\n",
    "\n",
    "##### Output Format\n",
    "\n",
    "T lines each containing count of digits of the input integer."
   ]
  },
  {
   "cell_type": "code",
   "execution_count": null,
   "id": "c244c35b",
   "metadata": {},
   "outputs": [],
   "source": [
    "def main():\n",
    "    # YOUR CODE GOES HERE\n",
    "    # Please take input and print output to standard input/output (stdin/stdout)\n",
    "    # E.g. 'input()/raw_input()' for input & 'print' for output\n",
    "    T=int(input())\n",
    "    for i in range(T):\n",
    "        N=int(input())\n",
    "        count=0\n",
    "        if(N==0):\n",
    "            print(1)\n",
    "        else:\n",
    "            while(N>0):\n",
    "                count+=1\n",
    "                N=N//10\n",
    "            print(count)\n",
    "\n",
    "    return 0\n",
    "\n",
    "if __name__ == '__main__':\n",
    "    main()"
   ]
  },
  {
   "cell_type": "markdown",
   "id": "5713cad3",
   "metadata": {},
   "source": [
    "### Problem 2 - Sum the digits"
   ]
  },
  {
   "cell_type": "markdown",
   "id": "30e2e8ba",
   "metadata": {},
   "source": [
    "##### Problem Description\n",
    "\n",
    "Write a program to input T numbers(N) from user and print the sum of the digits of the given numbers.\n",
    "\n",
    "\n",
    "\n",
    "##### Problem Constraints\n",
    "\n",
    "1 <= T <= 1000\n",
    "\n",
    "0 <= N <= 100000000\n",
    "\n",
    "\n",
    "\n",
    "##### Input Format\n",
    "\n",
    "First line is T which means number of test cases.\n",
    "\n",
    "Each next T lines contain an integer N.\n",
    "\n",
    "\n",
    "\n",
    "##### Output Format\n",
    "\n",
    "T lines each containing one integer representing sum of the digits of the input integer."
   ]
  },
  {
   "cell_type": "code",
   "execution_count": null,
   "id": "dc665cab",
   "metadata": {},
   "outputs": [],
   "source": [
    "def main():\n",
    "    # YOUR CODE GOES HERE\n",
    "    # Please take input and print output to standard input/output (stdin/stdout)\n",
    "    # E.g. 'input()/raw_input()' for input & 'print' for output\n",
    "    T=int(input())\n",
    "    for i in range(T):\n",
    "        N=int(input())\n",
    "        sum=0\n",
    "        if(N==0):\n",
    "            print(0)\n",
    "        else:\n",
    "            while(N>0):\n",
    "                sum=sum + (N%10)\n",
    "                N=N//10\n",
    "            print(sum)\n",
    "\n",
    "    return 0\n",
    "\n",
    "if __name__ == '__main__':\n",
    "    main()"
   ]
  },
  {
   "cell_type": "markdown",
   "id": "d27985e1",
   "metadata": {},
   "source": [
    "### Problem 3 - Palindromic Integer"
   ]
  },
  {
   "cell_type": "markdown",
   "id": "83cc246d",
   "metadata": {},
   "source": [
    "##### Problem Description\n",
    "\n",
    "Given an integer A, determine whether it is palindromic or not.\n",
    "\n",
    "A palindrome integer is an integer X for which reverse(X) = X where reverse(X) is X with its digits reversed. For e.g., reverse(123) = 321.\n",
    "\n",
    "\n",
    "\n",
    "##### Problem Constraints\n",
    "\n",
    "1 <= A <= 106\n",
    "\n",
    "\n",
    "\n",
    "##### Input Format\n",
    "\n",
    "First and the only line contains a single integer A.\n",
    "\n",
    "\n",
    "\n",
    "##### Output Format\n",
    "\n",
    "Print Yes if it is palindromic, else print No."
   ]
  },
  {
   "cell_type": "code",
   "execution_count": null,
   "id": "18986d0a",
   "metadata": {},
   "outputs": [],
   "source": [
    "def main():\n",
    "    # YOUR CODE GOES HERE\n",
    "    # Please take input and print output to standard input/output (stdin/stdout)\n",
    "    # E.g. 'input()/raw_input()' for input & 'print' for output\n",
    "    A=int(input())\n",
    "    B=A\n",
    "    number=0\n",
    "    while(A>0):\n",
    "        digit=A%10\n",
    "        number=number*10 + digit\n",
    "        A=A//10\n",
    "    if(number==B):\n",
    "        print('Yes')\n",
    "    else:\n",
    "        print('No')\n",
    "\n",
    "    return 0\n",
    "\n",
    "if __name__ == '__main__':\n",
    "    main()"
   ]
  },
  {
   "cell_type": "markdown",
   "id": "47828546",
   "metadata": {},
   "source": [
    "### Problem 4 - Bank Account"
   ]
  },
  {
   "cell_type": "markdown",
   "id": "e468492f",
   "metadata": {},
   "source": [
    "##### Problem Description\n",
    "\n",
    "You are given a Bank account having N amount and you are asked to perfrom ADD(credit) or SUBTRACT(debit) operation.\n",
    "\n",
    "After the operation print the amount left in the Bank account. If the debit amount is greater than current balance print \"Insufficient Funds\"(without quotes) and the operation is skipped.\n",
    "\n",
    "\n",
    "\n",
    "##### Problem Constraints\n",
    "\n",
    "1 <= N, X <= 105\n",
    "\n",
    "\n",
    "##### Input Format\n",
    "\n",
    "First line contains a single integer N denoting the balance in bank account.\n",
    "\n",
    "Next line contains two space separated integers Type and Amount(X).\n",
    "\n",
    "If Type == 1, Perform ADD operation.\n",
    "If Type == 2, Perform SUBTRACT operation.\n",
    "\n",
    "\n",
    "##### Output Format\n",
    "\n",
    "Print Amount in the bank balance after the operation."
   ]
  },
  {
   "cell_type": "code",
   "execution_count": null,
   "id": "0a7990c5",
   "metadata": {},
   "outputs": [],
   "source": [
    "def main():\n",
    "    # YOUR CODE GOES HERE\n",
    "    # Please take input and print output to standard input/output (stdin/stdout)\n",
    "    # E.g. 'input()/raw_input()' for input & 'print' for output\n",
    "    bankbal=int(input())\n",
    "    nofope=int(input())\n",
    "    for i in range(nofope):\n",
    "        j,amount = map(int,input().split())\n",
    "        if(j == 1):\n",
    "            bankbal=bankbal+amount\n",
    "            print(bankbal)\n",
    "        elif(j==2):\n",
    "            if(bankbal>=amount):\n",
    "                bankbal=bankbal-amount\n",
    "                print(bankbal)\n",
    "            else:\n",
    "                print('Insufficient Funds')\n",
    "\n",
    "    return 0\n",
    "\n",
    "if __name__ == '__main__':\n",
    "    main()"
   ]
  },
  {
   "cell_type": "markdown",
   "id": "2cf6b929",
   "metadata": {},
   "source": [
    "### Problem 5 - Multiplication Table"
   ]
  },
  {
   "cell_type": "markdown",
   "id": "803386a8",
   "metadata": {},
   "source": [
    "##### Problem Description\n",
    "For a given number A, print its multiplication table having the first 10 multiples.\n",
    "\n",
    "\n",
    "\n",
    "##### Problem Constraints\n",
    "1 <= A <= 1000\n",
    "\n",
    "\n",
    "\n",
    "##### Input Format\n",
    "First line contains a single integer A.\n",
    "\n",
    "\n",
    "\n",
    "##### Output Format\n",
    "Print 10 lines, ith line containing ith multiple."
   ]
  },
  {
   "cell_type": "code",
   "execution_count": null,
   "id": "70f3c138",
   "metadata": {},
   "outputs": [],
   "source": [
    "def main():\n",
    "    # YOUR CODE GOES HERE\n",
    "    # Please take input and print output to standard input/output (stdin/stdout)\n",
    "    # E.g. 'input()/raw_input()' for input & 'print' for output\n",
    "    A=int(input())\n",
    "    i=1\n",
    "    while(i<11):\n",
    "        print(\"{} * {} = {}\".format(A,i,A*i))\n",
    "        i=i+1\n",
    "\n",
    "    return 0\n",
    "\n",
    "if __name__ == '__main__':\n",
    "    main()"
   ]
  },
  {
   "cell_type": "markdown",
   "id": "d5ad6ceb",
   "metadata": {},
   "source": [
    "### Problem 6 - Easy Power"
   ]
  },
  {
   "cell_type": "markdown",
   "id": "2d42f01f",
   "metadata": {},
   "source": [
    "##### Problem Description\n",
    "\n",
    "You are given two integers A and B. You have to find the value of AB.\n",
    "\n",
    "NOTE: The value of answer is always less than or equal to 109.\n",
    "\n",
    "\n",
    "\n",
    "##### Problem Constraints\n",
    "\n",
    "1 <= A, B <= 1000\n",
    "\n",
    "\n",
    "\n",
    "##### Input Format\n",
    "\n",
    "First line of the input contains a single integer A.\n",
    "\n",
    "Second line of the input contains a single integer B.\n",
    "\n",
    "\n",
    "\n",
    "##### Output Format\n",
    "\n",
    "Print a single integer in single line."
   ]
  },
  {
   "cell_type": "code",
   "execution_count": null,
   "id": "14e30a2e",
   "metadata": {},
   "outputs": [],
   "source": [
    "def main():\n",
    "    # YOUR CODE GOES HERE\n",
    "    # Please take input and print output to standard input/output (stdin/stdout)\n",
    "    # E.g. 'input()/raw_input()' for input & 'print' for output\n",
    "    A=int(input())\n",
    "    B=int(input())\n",
    "    C=A\n",
    "    for i in range(1,B):\n",
    "        C=C*A\n",
    "    print(C)\n",
    "\n",
    "    return 0\n",
    "\n",
    "if __name__ == '__main__':\n",
    "    main()"
   ]
  }
 ],
 "metadata": {
  "kernelspec": {
   "display_name": "Python 3",
   "language": "python",
   "name": "python3"
  },
  "language_info": {
   "codemirror_mode": {
    "name": "ipython",
    "version": 3
   },
   "file_extension": ".py",
   "mimetype": "text/x-python",
   "name": "python",
   "nbconvert_exporter": "python",
   "pygments_lexer": "ipython3",
   "version": "3.8.8"
  }
 },
 "nbformat": 4,
 "nbformat_minor": 5
}
