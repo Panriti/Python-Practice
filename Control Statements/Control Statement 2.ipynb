{
 "cells": [
  {
   "cell_type": "markdown",
   "id": "19482af2",
   "metadata": {},
   "source": [
    "## Control Statement"
   ]
  },
  {
   "cell_type": "markdown",
   "id": "2f56f6a0",
   "metadata": {},
   "source": [
    "### Problem 1 - From top to down\n"
   ]
  },
  {
   "cell_type": "markdown",
   "id": "adec1285",
   "metadata": {},
   "source": [
    "##### Write a program to print all Natural numbers from 1 to N where you have to take N as input from user"
   ]
  },
  {
   "cell_type": "code",
   "execution_count": 2,
   "id": "edd51849",
   "metadata": {},
   "outputs": [],
   "source": [
    "def main():\n",
    "    A=int(input())\n",
    "    i=1\n",
    "    while(i<=A):\n",
    "        print(i,end=\" \")\n",
    "        i+=1\n",
    "    return 0\n"
   ]
  },
  {
   "cell_type": "markdown",
   "id": "63e8930f",
   "metadata": {},
   "source": [
    "### Problem 2 - From down to top"
   ]
  },
  {
   "cell_type": "markdown",
   "id": "cea64ddc",
   "metadata": {},
   "source": [
    "##### Write a program to print all Natural numbers from N to 1 where you have to take N as input from user"
   ]
  },
  {
   "cell_type": "code",
   "execution_count": 3,
   "id": "e4522096",
   "metadata": {},
   "outputs": [],
   "source": [
    "def main():\n",
    "    N=int(input())\n",
    "    while(N>0):\n",
    "        print(N,end=\" \")\n",
    "        N=N-1\n",
    "\n",
    "    return 0"
   ]
  },
  {
   "cell_type": "markdown",
   "id": "4091a680",
   "metadata": {},
   "source": [
    "### Problem 3 - Even Game"
   ]
  },
  {
   "cell_type": "markdown",
   "id": "a44c2fcb",
   "metadata": {},
   "source": [
    "##### Write a program to print all even numbers from 1 to N where you have to take N as input from user."
   ]
  },
  {
   "cell_type": "code",
   "execution_count": 4,
   "id": "5e8c8bed",
   "metadata": {},
   "outputs": [],
   "source": [
    "def main():\n",
    "    N=int(input())\n",
    "    for i in range(2,N+1,2):\n",
    "        print(i,end=\" \")\n",
    "    return 0"
   ]
  },
  {
   "cell_type": "markdown",
   "id": "1e9fd5b4",
   "metadata": {},
   "source": [
    "### Problem 4 - Odd Game"
   ]
  },
  {
   "cell_type": "markdown",
   "id": "928442fd",
   "metadata": {},
   "source": [
    "##### Write a program to print all odd numbers from 1 to N where you have to take N as input from user."
   ]
  },
  {
   "cell_type": "code",
   "execution_count": 5,
   "id": "552bab31",
   "metadata": {},
   "outputs": [],
   "source": [
    "def main():\n",
    "    N=int(input())\n",
    "    for i in range(1,N+1,2):\n",
    "        print(i,end=\" \")\n",
    "    return 0"
   ]
  },
  {
   "cell_type": "markdown",
   "id": "bf08f8c3",
   "metadata": {},
   "source": [
    "### Problem 5 - Summation Game"
   ]
  },
  {
   "cell_type": "markdown",
   "id": "05d16eb9",
   "metadata": {},
   "source": [
    "##### Write a program to find sum all Natural numbers from 1 to N where you have to take N as input from user"
   ]
  },
  {
   "cell_type": "code",
   "execution_count": 6,
   "id": "69515a47",
   "metadata": {},
   "outputs": [],
   "source": [
    "def main():\n",
    "    # YOUR CODE GOES HERE\n",
    "    # Please take input and print output to standard input/output (stdin/stdout)\n",
    "    # E.g. 'input()/raw_input()' for input & 'print' for output\n",
    "    N=int(input())\n",
    "    print(int(N*(N+1)/2))\n",
    "\n",
    "    return 0"
   ]
  },
  {
   "cell_type": "markdown",
   "id": "7ecebc18",
   "metadata": {},
   "source": [
    "### Problem 6 - Sum of Evens"
   ]
  },
  {
   "cell_type": "markdown",
   "id": "c7ad3380",
   "metadata": {},
   "source": [
    "##### You are given an integer A, you need to find and return the sum of all the even numbers between 1 and A.\n",
    "\n",
    "#### Even numbers are those numbers that are divisible by 2."
   ]
  },
  {
   "cell_type": "code",
   "execution_count": 7,
   "id": "67f18c16",
   "metadata": {},
   "outputs": [],
   "source": [
    "def solve(A):\n",
    "    i=2\n",
    "    sum=0\n",
    "    while(i<=A):\n",
    "        sum+=i\n",
    "        i+=2\n",
    "    return(sum)\n"
   ]
  },
  {
   "cell_type": "markdown",
   "id": "f867bfbb",
   "metadata": {},
   "source": [
    "### Problem 7 - Sum of odds"
   ]
  },
  {
   "cell_type": "markdown",
   "id": "0f372813",
   "metadata": {},
   "source": [
    "##### You are given a positive integer A. You have to print the sum of all odd numbers in the range [1, A]."
   ]
  },
  {
   "cell_type": "code",
   "execution_count": 8,
   "id": "0841a765",
   "metadata": {},
   "outputs": [],
   "source": [
    "def main():\n",
    "    # YOUR CODE GOES HERE\n",
    "    # Please take input and print output to standard input/output (stdin/stdout)\n",
    "    # E.g. 'input()/raw_input()' for input & 'print' for output\n",
    "    A=int(input())\n",
    "    i=1\n",
    "    sum=0\n",
    "    while(i<=A):\n",
    "        sum+=i\n",
    "        i+=2\n",
    "    print(sum)\n",
    "\n",
    "    return 0\n"
   ]
  },
  {
   "cell_type": "code",
   "execution_count": null,
   "id": "cc3b3f5e",
   "metadata": {},
   "outputs": [],
   "source": []
  }
 ],
 "metadata": {
  "kernelspec": {
   "display_name": "Python 3",
   "language": "python",
   "name": "python3"
  },
  "language_info": {
   "codemirror_mode": {
    "name": "ipython",
    "version": 3
   },
   "file_extension": ".py",
   "mimetype": "text/x-python",
   "name": "python",
   "nbconvert_exporter": "python",
   "pygments_lexer": "ipython3",
   "version": "3.8.8"
  }
 },
 "nbformat": 4,
 "nbformat_minor": 5
}
