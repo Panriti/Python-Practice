{
 "cells": [
  {
   "cell_type": "markdown",
   "id": "e4fbc7ad",
   "metadata": {},
   "source": [
    "### Problem 1 - Which Month"
   ]
  },
  {
   "cell_type": "markdown",
   "id": "442126f5",
   "metadata": {},
   "source": [
    "##### Write a program to input an integer(A) from user and print the Ath month of the year.\n",
    "\n",
    "##### Months list: {January, February, March, April, May, June, July, August, September, October, November, December}"
   ]
  },
  {
   "cell_type": "code",
   "execution_count": 1,
   "id": "f5a27a7c",
   "metadata": {},
   "outputs": [],
   "source": [
    "def main():\n",
    "    Months=[\"January\", \"February\", \"March\", \"April\", \"May\", \"June\", \"July\", \"August\", \"September\", \"October\", \"November\", \"December\"]\n",
    "    A=int(input())\n",
    "    print(Months[A-1])\n",
    "\n",
    "    return 0\n",
    "if __name__ == '__main__':\n",
    "    main()"
   ]
  },
  {
   "cell_type": "markdown",
   "id": "85abfd07",
   "metadata": {},
   "source": [
    "### Problem 2 - Days in a Month"
   ]
  },
  {
   "cell_type": "markdown",
   "id": "68766b45",
   "metadata": {},
   "source": [
    "You are given an integer A.\n",
    "\n",
    "You have to tell how many days are there in the month denoted by A in a non-leap year.\n",
    "\n",
    "Months are denoted as follows:\n",
    "\n",
    "January : 1\n",
    "February : 2\n",
    "March : 3\n",
    "April : 4\n",
    "May : 5\n",
    "June : 6\n",
    "July : 7\n",
    "August : 8\n",
    "September : 9\n",
    "October : 10\n",
    "November : 11\n",
    "December : 12\n"
   ]
  },
  {
   "cell_type": "code",
   "execution_count": 2,
   "id": "afdd5b8c",
   "metadata": {},
   "outputs": [],
   "source": [
    "def main():\n",
    "    A=int(input())\n",
    "    if(A in (4,6,9,11)):\n",
    "        print(30)\n",
    "    elif(A==2):\n",
    "        print(28)\n",
    "    else:\n",
    "        print(31)\n",
    "\n",
    "    return 0\n",
    "if __name__ == '__main__':\n",
    "    main()"
   ]
  },
  {
   "cell_type": "markdown",
   "id": "d4d2f0ab",
   "metadata": {},
   "source": [
    "### Problem 3 - Percentage and Grade"
   ]
  },
  {
   "cell_type": "markdown",
   "id": "3aaf7413",
   "metadata": {},
   "source": [
    "Write a program to calculate the percentage and grades according to the percentage of a student. Five numbers(A, B, C, D & E) represent the marks of a student in 5 subjects which are out of 100. Print the percentage and the grade of the student.\n",
    "\n",
    "If percentage >= 90% : Grade A\n",
    "If percentage >= 80% but <90 : Grade B\n",
    "If percentage >= 70% but <80: Grade C\n",
    "If percentage >= 60% but <70: Grade D\n",
    "If percentage >= 40% but <60: Grade E\n",
    "If percentage < 40%: Grade F\n",
    "NOTE: You have to take the lowest integer of the percentage. E.g. 90.8% will be treated as 90%.\n",
    "    \n",
    "##### Input Format:\n",
    "\n",
    "There will be five lines of inputs as following:\n",
    "\n",
    "The five lines contain the 5 subject marks of the student in numerical format.\n",
    "\n",
    "##### Output Format:\n",
    "\n",
    "The first line indicates the percentage in integer format.  \n",
    "\n",
    "The next line displays the grade in string format."
   ]
  },
  {
   "cell_type": "code",
   "execution_count": 3,
   "id": "4c6a8afe",
   "metadata": {},
   "outputs": [],
   "source": [
    "def main():\n",
    "    T=int(input())\n",
    "    for i in range(T):\n",
    "        A=int(input())\n",
    "        B=int(input())\n",
    "        C=int(input())\n",
    "        D=int(input())\n",
    "        E=int(input())\n",
    "        per = (A+B+C+D+E)/5\n",
    "        if(per>=90):\n",
    "            print(int(per))\n",
    "            print(\"A\")\n",
    "        elif(per>=80):\n",
    "            print(int(per))\n",
    "            print(\"B\") \n",
    "        elif(per>=70):\n",
    "            print(int(per))\n",
    "            print(\"C\")\n",
    "        elif(per>=60):\n",
    "            print(int(per))\n",
    "            print(\"D\")\n",
    "        elif(per>=50):\n",
    "            print(int(per))\n",
    "            print(\"else\")\n",
    "        else:\n",
    "            print(int(per))\n",
    "            print(\"F\")\n",
    "\n",
    "        return 0\n",
    "if __name__ == '__main__':\n",
    "    main()"
   ]
  },
  {
   "cell_type": "markdown",
   "id": "695ad3ef",
   "metadata": {},
   "source": [
    "### Problem 4 - Average of 5 numbers"
   ]
  },
  {
   "cell_type": "markdown",
   "id": "7e1b19c3",
   "metadata": {},
   "source": [
    "##### Problem Description\n",
    "Given 5 numbers A, B, C, D, E as input. Print the average of these 5 numbers (correct up to 2 decimal places).\n",
    "\n",
    "\n",
    "##### Problem Constraints\n",
    "1 <= A, B, C, D, E <= 104\n",
    "\n",
    "\n",
    "##### Input Format\n",
    "There are five lines in the input.\n",
    "Each line has an integer.\n",
    "\n",
    "\n",
    "##### Output Format\n",
    "Print the average of the input numbers (correct up to 2 decimal places)."
   ]
  },
  {
   "cell_type": "code",
   "execution_count": 4,
   "id": "0a6a4017",
   "metadata": {},
   "outputs": [],
   "source": [
    "def main():\n",
    "    A = int(input())\n",
    "    B = int(input())\n",
    "    C = int(input())\n",
    "    D = int(input())\n",
    "    E = int(input())\n",
    "    sample=[A,B,C,D,E]\n",
    "    average = sum(sample)/len(sample)\n",
    "    print('%.2f' %(average))\n",
    "    return 0\n",
    "if __name__ == '__main__':\n",
    "    main()"
   ]
  },
  {
   "cell_type": "markdown",
   "id": "da2e3c16",
   "metadata": {},
   "source": [
    "### Problem 5 - A simple calculator"
   ]
  },
  {
   "cell_type": "markdown",
   "id": "7d8a676e",
   "metadata": {},
   "source": [
    "##### Problem Description\n",
    "Given two numbers A and B. Print A+B, A*B, A-B, A/B in the same order.\n",
    "\n",
    "\n",
    "##### Problem Constraints\n",
    "1 <= A, B <= 104\n",
    "\n",
    "\n",
    "##### Input Format\n",
    "There are two input lines\n",
    "The first line has a single integer A.\n",
    "The second line has a single integer B.\n",
    "\n",
    "\n",
    "##### Output Format\n",
    "Print in a single line separated by space A+B, A*B, A-B, A/B in the same order."
   ]
  },
  {
   "cell_type": "code",
   "execution_count": 5,
   "id": "5696b617",
   "metadata": {},
   "outputs": [],
   "source": [
    "def main():\n",
    "    A = int(input())\n",
    "    B = int(input())\n",
    "    print('%d %d %d %d' %(A+B,A*B,A-B,A/B))\n",
    "\n",
    "    return 0\n",
    "if __name__ == '__main__':\n",
    "    main()"
   ]
  },
  {
   "cell_type": "markdown",
   "id": "3da56601",
   "metadata": {},
   "source": [
    "### Problem 6 - Floor of A/B"
   ]
  },
  {
   "cell_type": "markdown",
   "id": "2574e07e",
   "metadata": {},
   "source": [
    "##### Problem Description\n",
    "Given two numbers A and B. Print the floor of A/B.\n",
    "\n",
    "\n",
    "##### Problem Constraints\n",
    "1 <= A, B <= 104\n",
    "\n",
    "\n",
    "##### Input Format\n",
    "There are two input lines\n",
    "The first line has a single integer A.\n",
    "The second line has a single integer B.\n",
    "\n",
    "\n",
    "##### Output Format\n",
    "Print in a single line the floor of A/B.\n"
   ]
  },
  {
   "cell_type": "code",
   "execution_count": 7,
   "id": "5d7a06aa",
   "metadata": {},
   "outputs": [
    {
     "name": "stdout",
     "output_type": "stream",
     "text": [
      "2\n",
      "3\n",
      "0\n"
     ]
    }
   ],
   "source": [
    "def main():\n",
    "    A = int(input())\n",
    "    B = int(input())\n",
    "    print(int(A/B))\n",
    "\n",
    "    return 0\n",
    "\n",
    "if __name__ == '__main__':\n",
    "    main()"
   ]
  },
  {
   "cell_type": "markdown",
   "id": "5b1ffe2c",
   "metadata": {},
   "source": [
    "### Problem 7 - Max of Two"
   ]
  },
  {
   "cell_type": "markdown",
   "id": "a164d4b3",
   "metadata": {},
   "source": [
    "##### Problem Description\n",
    "Write a program to input two numbers(A & B) from user and print the maximum element among A & B in each line.\n",
    "\n",
    "\n",
    "\n",
    "##### Problem Constraints\n",
    "1 <= A <= 1000000\n",
    "\n",
    "1 <= B <= 1000000\n",
    "\n",
    "\n",
    "\n",
    "##### Input Format\n",
    "First line is a single integer A.\n",
    "Second line is a single integer B.\n",
    "\n",
    "\n",
    "\n",
    "##### Output Format\n",
    "One line containing an integer as per the question.\n",
    "\n"
   ]
  },
  {
   "cell_type": "code",
   "execution_count": 8,
   "id": "a497548b",
   "metadata": {},
   "outputs": [
    {
     "name": "stdout",
     "output_type": "stream",
     "text": [
      "2\n",
      "3\n",
      "3\n"
     ]
    }
   ],
   "source": [
    "def main():\n",
    "    A=int(input())\n",
    "    B=int(input())\n",
    "    print(max(A,B))\n",
    "\n",
    "    return 0\n",
    "\n",
    "if __name__ == '__main__':\n",
    "    main()"
   ]
  },
  {
   "cell_type": "markdown",
   "id": "46143eda",
   "metadata": {},
   "source": [
    "### Problem 8 - Max of Three"
   ]
  },
  {
   "cell_type": "markdown",
   "id": "fe0bd743",
   "metadata": {},
   "source": [
    "##### Problem Description\n",
    "Write a program to input three numbers(A, B & C) from user and print the maximum element among A, B & C in each line.\n",
    "\n",
    "\n",
    "\n",
    "##### Problem Constraints\n",
    "1 <= A <= 1000000\n",
    "\n",
    "1 <= B <= 1000000\n",
    "\n",
    "1 <= C <= 1000000\n",
    "\n",
    "\n",
    "\n",
    "##### Input Format\n",
    "First line is a single integer A.\n",
    "Second line is a single integer B.\n",
    "Third line is a single integer C.\n",
    "\n",
    "\n",
    "\n",
    "##### Output Format\n",
    "One line containing an integer as per the question.\n",
    "\n"
   ]
  },
  {
   "cell_type": "code",
   "execution_count": null,
   "id": "12b24543",
   "metadata": {},
   "outputs": [],
   "source": [
    "def main():\n",
    "    # YOUR CODE GOES HERE\n",
    "    # Please take input and print output to standard input/output (stdin/stdout)\n",
    "    # E.g. 'input()/raw_input()' for input & 'print' for output\n",
    "    A=int(input())\n",
    "    B=int(input())\n",
    "    C=int(input())\n",
    "    print(max(A,B,C))\n",
    "\n",
    "    return 0\n",
    "\n",
    "if __name__ == '__main__':\n",
    "    main()"
   ]
  },
  {
   "cell_type": "markdown",
   "id": "c5b0e39a",
   "metadata": {},
   "source": [
    "### Problem 9 - Angles of valid triangle"
   ]
  },
  {
   "cell_type": "markdown",
   "id": "b833bc6a",
   "metadata": {},
   "source": [
    "##### Problem Description\n",
    "\n",
    "You are given 3 integer angles(in degrees) A, B and C of a triangle. You have to tell whether the triangle is valid or not.\n",
    "\n",
    "A triangle is valid if sum of its angles equals to 180.\n",
    "\n",
    "\n",
    "\n",
    "##### Problem Constraints\n",
    "\n",
    "1 <= A, B, C <= 180\n",
    "\n",
    "\n",
    "\n",
    "##### Input Format\n",
    "\n",
    "First line of the input contains an integer A.\n",
    "\n",
    "Second line of the input contains an integer B.\n",
    "\n",
    "Third line of the input contains an integer C.\n",
    "\n",
    "\n",
    "\n",
    "##### Output Format\n",
    "\n",
    "Print 1 if the triangle having given sides is valid, else print 0.\n",
    "\n"
   ]
  },
  {
   "cell_type": "code",
   "execution_count": null,
   "id": "f18810c8",
   "metadata": {},
   "outputs": [],
   "source": [
    "def main():\n",
    "    # YOUR CODE GOES HERE\n",
    "    # Please take input and print output to standard input/output (stdin/stdout)\n",
    "    # E.g. 'input()/raw_input()' for input & 'print' for output\n",
    "    A=int(input())\n",
    "    B=int(input())\n",
    "    C=int(input())\n",
    "    if(A+B+C==180):\n",
    "        print(1)\n",
    "    else:\n",
    "        print(0)\n",
    "\n",
    "    return 0\n",
    "\n",
    "if __name__ == '__main__':\n",
    "    main()"
   ]
  },
  {
   "cell_type": "markdown",
   "id": "51cd5c66",
   "metadata": {},
   "source": [
    "### Problem 10 - Divisible by 2 numbers"
   ]
  },
  {
   "cell_type": "markdown",
   "id": "cacc095b",
   "metadata": {},
   "source": [
    "##### Problem Description\n",
    "\n",
    "You are given an integer A. You have to tell whether A is divible by both 5 and 11 or not.\n",
    "\n",
    "\n",
    "\n",
    "##### Problem Constraints\n",
    "\n",
    "1 <= A <= 109\n",
    "\n",
    "\n",
    "\n",
    "##### Input Format\n",
    "\n",
    "The input contains a single integer A.\n",
    "\n",
    "\n",
    "\n",
    "##### Output Format\n",
    "\n",
    "Print 1 if A is divisible by both 5 and 11, else print 0.\n",
    "\n"
   ]
  },
  {
   "cell_type": "code",
   "execution_count": null,
   "id": "53fe9bf8",
   "metadata": {},
   "outputs": [],
   "source": [
    "def main():\n",
    "    A=int(input())\n",
    "    if(A%5==0 and A%11==0):\n",
    "        print(1)\n",
    "    else:\n",
    "        print(0)\n",
    "\n",
    "    return 0\n",
    "\n",
    "if __name__ == '__main__':\n",
    "    main()"
   ]
  },
  {
   "cell_type": "markdown",
   "id": "376e3a17",
   "metadata": {},
   "source": [
    "### Problem 11 - Which Triangle"
   ]
  },
  {
   "cell_type": "markdown",
   "id": "f5bc3267",
   "metadata": {},
   "source": [
    "##### Problem Description\n",
    "\n",
    "Write a program to input from user three numbers(A, B & C) representing side lengths of a triangle.\n",
    "\n",
    "You have to print if the traingle is \"equilateral\", \"scalene\" or \"isosceles\".\n",
    "\n",
    "\n",
    "\n",
    "##### Problem Constraints\n",
    "\n",
    "1 <= A <= 100000\n",
    "\n",
    "1 <= B <= 100000\n",
    "\n",
    "1 <= C <= 100000\n",
    "\n",
    "\n",
    "\n",
    "##### Input Format\n",
    "\n",
    "One line containing three space separated integers A, B & C.\n",
    "\n",
    "\n",
    "\n",
    "##### Output Format\n",
    "\n",
    "One string either \"equilateral\", \"scalene\" or \"isosceles\"."
   ]
  },
  {
   "cell_type": "code",
   "execution_count": null,
   "id": "99926103",
   "metadata": {},
   "outputs": [],
   "source": [
    "def main():\n",
    "    A,B,C=[int(x) for x in input().split()]\n",
    "    if(A==B and A==C):\n",
    "        print(\"equilateral\")\n",
    "    elif(A!=B and A!=C and B!=C):\n",
    "        print(\"scalene\")\n",
    "    else:\n",
    "        print(\"isosceles\")\n",
    "\n",
    "    return 0\n",
    "\n",
    "if __name__ == '__main__':\n",
    "    main()"
   ]
  },
  {
   "cell_type": "markdown",
   "id": "4f0cdaba",
   "metadata": {},
   "source": [
    "### Problem 12 - Min of Two"
   ]
  },
  {
   "cell_type": "markdown",
   "id": "a99041b9",
   "metadata": {},
   "source": [
    "##### Problem Description\n",
    "Write a program to input two numbers(A & B) from user and print the minimum element among A & B in each line.\n",
    "\n",
    "\n",
    "\n",
    "##### Problem Constraints\n",
    "1 <= A <= 1000000\n",
    "\n",
    "1 <= B <= 1000000\n",
    "\n",
    "\n",
    "\n",
    "##### Input Format\n",
    "First line is a single integer A.\n",
    "Second line is a single integer B.\n",
    "\n",
    "\n",
    "\n",
    "##### Output Format\n",
    "One line containing an integer as per the question.\n",
    "\n"
   ]
  },
  {
   "cell_type": "code",
   "execution_count": null,
   "id": "70f26c99",
   "metadata": {},
   "outputs": [],
   "source": [
    "def main():\n",
    "    A=int(input())\n",
    "    B=int(input())\n",
    "    print(min(A,B))\n",
    "\n",
    "    return 0\n",
    "\n",
    "if __name__ == '__main__':\n",
    "    main()"
   ]
  },
  {
   "cell_type": "markdown",
   "id": "5450a7d1",
   "metadata": {},
   "source": [
    "### Problem 13 - Min of Three"
   ]
  },
  {
   "cell_type": "markdown",
   "id": "5369c4eb",
   "metadata": {},
   "source": [
    "##### Problem Description\n",
    "Write a program to input three numbers(A, B & C) from user and print the minimum element among A, B & C in each line.\n",
    "\n",
    "\n",
    "\n",
    "##### Problem Constraints\n",
    "1 <= A <= 1000000\n",
    "\n",
    "1 <= B <= 1000000\n",
    "\n",
    "1 <= C <= 1000000\n",
    "\n",
    "\n",
    "\n",
    "##### Input Format\n",
    "First line is a single integer A.\n",
    "Second line is a single integer B.\n",
    "Third line is a single integer C.\n",
    "\n",
    "\n",
    "\n",
    "##### Output Format\n",
    "One line containing an integer as per the question."
   ]
  },
  {
   "cell_type": "code",
   "execution_count": null,
   "id": "2406a1f8",
   "metadata": {},
   "outputs": [],
   "source": [
    "def main():\n",
    "    # YOUR CODE GOES HERE\n",
    "    # Please take input and print output to standard input/output (stdin/stdout)\n",
    "    # E.g. 'input()/raw_input()' for input & 'print' for output\n",
    "    A=int(input())\n",
    "    B=int(input())\n",
    "    C=int(input())\n",
    "    print(min(A,B,C))\n",
    "    \n",
    "\n",
    "    return 0\n",
    "\n",
    "if __name__ == '__main__':\n",
    "    main()"
   ]
  },
  {
   "cell_type": "markdown",
   "id": "f872847f",
   "metadata": {},
   "source": [
    "### Problem 14 - Check even/odd"
   ]
  },
  {
   "cell_type": "markdown",
   "id": "1e274a30",
   "metadata": {},
   "source": [
    "##### Problem Description\n",
    "Write a program to input an integer from user and print 1 if it is odd otherwise print 0.\n",
    "\n",
    "\n",
    "\n",
    "##### Problem Constraints\n",
    "1 <= N <= 1000000\n",
    "\n",
    "\n",
    "\n",
    "##### Input Format\n",
    "One line containing an integer N.\n",
    "\n",
    "\n",
    "\n",
    "##### Output Format\n",
    "Print either 1 or 0 as per the question.\n",
    "\n"
   ]
  },
  {
   "cell_type": "code",
   "execution_count": null,
   "id": "632a7678",
   "metadata": {},
   "outputs": [],
   "source": [
    "def main():\n",
    "    # YOUR CODE GOES HERE\n",
    "    # Please take input and print output to standard input/output (stdin/stdout)\n",
    "    # E.g. 'input()/raw_input()' for input & 'print' for output\n",
    "    A=int(input())\n",
    "    if(A%2==0):\n",
    "        print(0)\n",
    "    else:\n",
    "        print(1)\n",
    "\n",
    "    return 0\n",
    "\n",
    "if __name__ == '__main__':\n",
    "    main()"
   ]
  },
  {
   "cell_type": "markdown",
   "id": "b604f756",
   "metadata": {},
   "source": [
    "### Problem 15 - profit or loss"
   ]
  },
  {
   "cell_type": "markdown",
   "id": "21950ee9",
   "metadata": {},
   "source": [
    "##### Problem Description\n",
    "\n",
    "You are given the Cost Price C and Selling Price S of a Product. You have to tell whether there is a Profit or Loss. Also, calculate total profit or loss.\n",
    "\n",
    "NOTE: It is guaranteed that Cost Price and Selling Price are not equal.\n",
    "\n",
    "\n",
    "\n",
    "##### Problem Constraints\n",
    "\n",
    "1 <= C, S <= 109\n",
    "\n",
    "C ≠ S\n",
    "\n",
    "\n",
    "\n",
    "##### Input Format\n",
    "\n",
    "First line of the input contains a single integer C.\n",
    "\n",
    "Second line of the input contains a single integer S.\n",
    "\n",
    "\n",
    "\n",
    "##### Output Format\n",
    "\n",
    "Print two integers in separate lines.\n",
    "\n",
    "First integer denotes whether there is a profit or loss. If there is a profit, print 1, else print -1.\n",
    "\n",
    "Second integer is a non-negative integer denoting the absolute value of total profit or loss."
   ]
  },
  {
   "cell_type": "code",
   "execution_count": null,
   "id": "2a4351db",
   "metadata": {},
   "outputs": [],
   "source": [
    "def main():\n",
    "    # YOUR CODE GOES HERE\n",
    "    # Please take input and print output to standard input/output (stdin/stdout)\n",
    "    # E.g. 'input()/raw_input()' for input & 'print' for output\n",
    "    C=int(input())\n",
    "    S=int(input())\n",
    "    if(S>C):\n",
    "        print(1,S-C,sep='\\n')\n",
    "    else:\n",
    "        print(-1,C-S,sep='\\n')\n",
    "\n",
    "    return 0\n",
    "\n",
    "if __name__ == '__main__':\n",
    "    main()"
   ]
  },
  {
   "cell_type": "markdown",
   "id": "8dd3cfc5",
   "metadata": {},
   "source": [
    "### Problem 16 - categorize the number"
   ]
  },
  {
   "cell_type": "markdown",
   "id": "9b48273b",
   "metadata": {},
   "source": [
    "##### Problem Description\n",
    "\n",
    "Write a program to input a number(A) from user and print 1 if it is positive, -1 if it is negative, 0 if it's neither positive nor negative.\n",
    "\n",
    "\n",
    "\n",
    "##### Problem Constraints\n",
    "\n",
    "1 <= A <= 1000000\n",
    "\n",
    "\n",
    "\n",
    "##### Input Format\n",
    "\n",
    "One line containing an integer A.\n",
    "\n",
    "\n",
    "\n",
    "##### Output Format\n",
    "\n",
    "One line each 0/1/-1 as per the question."
   ]
  },
  {
   "cell_type": "code",
   "execution_count": null,
   "id": "62b2ff77",
   "metadata": {},
   "outputs": [],
   "source": [
    "def main():\n",
    "    # YOUR CODE GOES HERE\n",
    "    # Please take input and print output to standard input/output (stdin/stdout)\n",
    "    # E.g. 'input()/raw_input()' for input & 'print' for output\n",
    "    A=int(input())\n",
    "    if(A>0):\n",
    "        print(1)\n",
    "    elif(A<0):\n",
    "        print(-1)\n",
    "    else:\n",
    "        print(0)\n",
    "\n",
    "    return 0\n",
    "\n",
    "if __name__ == '__main__':\n",
    "    main()"
   ]
  },
  {
   "cell_type": "markdown",
   "id": "6b9428ef",
   "metadata": {},
   "source": [
    "### Problem 17 - Is it special year?"
   ]
  },
  {
   "cell_type": "markdown",
   "id": "aee61e87",
   "metadata": {},
   "source": [
    "##### Problem Description\n",
    "\n",
    "Given an integer A representing a year, print 1 if it is a special year else print 0.\n",
    "\n",
    "A year is a special year if year is multiple of 4 but not multiple of 100.\n",
    "\n",
    "##### Input Format:\n",
    "\n",
    "The single line of the input contains a single integer A.\n",
    "##### Output Format:\n",
    "\n",
    "Print 1 if it is a Leap year, else print 0."
   ]
  },
  {
   "cell_type": "code",
   "execution_count": null,
   "id": "ff4442ff",
   "metadata": {},
   "outputs": [],
   "source": [
    "def main():\n",
    "    # YOUR CODE GOES HERE\n",
    "    # Please take input and print output to standard input/output (stdin/stdout)\n",
    "    # E.g. 'input()/raw_input()' for input & 'print' for output\n",
    "    A=int(input())\n",
    "    if(A%400==0 or (A%4==0 and A%100>0)):\n",
    "        print(1)\n",
    "    else:\n",
    "        print(0)\n",
    "\n",
    "    return 0\n",
    "\n",
    "if __name__ == '__main__':\n",
    "    main()"
   ]
  }
 ],
 "metadata": {
  "kernelspec": {
   "display_name": "Python 3",
   "language": "python",
   "name": "python3"
  },
  "language_info": {
   "codemirror_mode": {
    "name": "ipython",
    "version": 3
   },
   "file_extension": ".py",
   "mimetype": "text/x-python",
   "name": "python",
   "nbconvert_exporter": "python",
   "pygments_lexer": "ipython3",
   "version": "3.8.8"
  }
 },
 "nbformat": 4,
 "nbformat_minor": 5
}
