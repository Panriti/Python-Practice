{
 "cells": [
  {
   "cell_type": "markdown",
   "id": "20983046",
   "metadata": {},
   "source": [
    "### Problem 1 - Unique element"
   ]
  },
  {
   "cell_type": "markdown",
   "id": "66dd81e1",
   "metadata": {},
   "source": [
    "##### Problem Description\n",
    "Given an Array of integers A, every element in it is repeated twice except one, find that unique element.\n",
    "\n",
    "\n",
    "##### Problem Constraints\n",
    "1<= Length of array A <= 103\n",
    "0<= Ai <=1000\n",
    "\n",
    "\n",
    "##### Input Format\n",
    "First argument N is the length of the given array, and second argument is the array A.\n",
    "\n",
    "\n",
    "##### Output Format\n",
    "Return an Integer X, such that X occurs once in the A."
   ]
  },
  {
   "cell_type": "code",
   "execution_count": 1,
   "id": "55a956b9",
   "metadata": {},
   "outputs": [],
   "source": [
    "def solve(A):\n",
    "    for x in A:\n",
    "        if(A.count(x)==1):\n",
    "            return(x)\n",
    "        else:\n",
    "            continue\n"
   ]
  },
  {
   "cell_type": "markdown",
   "id": "b1d13c15",
   "metadata": {},
   "source": [
    "### Problem 2 - Reverse array inplace"
   ]
  },
  {
   "cell_type": "markdown",
   "id": "5d71a4bf",
   "metadata": {},
   "source": [
    "##### Problem Description\n",
    "You are provided with an integer array A. Reverse A inplace with O(1) extra memory.\n",
    "\n",
    "\n",
    "##### Problem Constraints\n",
    "1 <= |A| <= 106\n",
    "1 <= A[i] <= 106\n",
    "\n",
    "\n",
    "##### Input Format\n",
    "The first and only argument is an integer array A.\n",
    "\n",
    "\n",
    "##### Output Format\n",
    "Reverse inplace array A. Don't return anything."
   ]
  },
  {
   "cell_type": "code",
   "execution_count": 2,
   "id": "c0d86516",
   "metadata": {},
   "outputs": [],
   "source": [
    "def reverse(A):\n",
    "    B=A[::-1]\n",
    "    return(B)"
   ]
  },
  {
   "cell_type": "markdown",
   "id": "d2cd5328",
   "metadata": {},
   "source": [
    "### Problem 3 - Reverse Generator"
   ]
  },
  {
   "cell_type": "markdown",
   "id": "8bf001e3",
   "metadata": {},
   "source": [
    "##### Problem Description\n",
    "Given an array A, Find the reverse of it. Do not modify the original array.\n",
    "\n",
    "\n",
    "##### Problem Constraints\n",
    "1<= Length of array A <= 105\n",
    "0<= Ai <= 109\n",
    "\n",
    "\n",
    "##### Input Format\n",
    "First and the only argument is the array A.\n",
    "\n",
    "\n",
    "##### Output Format\n",
    "Return an Array that is the reverse of the given array A.\n"
   ]
  },
  {
   "cell_type": "code",
   "execution_count": 3,
   "id": "72b9cc97",
   "metadata": {},
   "outputs": [],
   "source": [
    "def solve(A):\n",
    "    B=A[::-1]\n",
    "    return(B)"
   ]
  },
  {
   "cell_type": "markdown",
   "id": "4c73dbe9",
   "metadata": {},
   "source": [
    "### Problem 4 - Check Pair Sum"
   ]
  },
  {
   "cell_type": "markdown",
   "id": "feb81f5e",
   "metadata": {},
   "source": [
    "##### Problem Description\n",
    "Given an Array of integers B, and a target sum A.\n",
    "Check if there exists a pair (i,j) such that Bi + Bj = A and i!=j.\n",
    "\n",
    "\n",
    "##### Problem Constraints\n",
    "1<= Length of array B <= 103\n",
    "0<= Bi <=109\n",
    "0<= A <=109\n",
    "\n",
    "\n",
    "##### Input Format\n",
    "First argument A is the Target sum, and second argument is the array B\n",
    "\n",
    "\n",
    "##### Output Format\n",
    "Return an integer value 1 if there exists such pair, else return 0."
   ]
  },
  {
   "cell_type": "code",
   "execution_count": 4,
   "id": "f514f5ea",
   "metadata": {},
   "outputs": [],
   "source": [
    "def solve(A, B):\n",
    "    n=len(B)\n",
    "    for i in range(n-1):\n",
    "        for j in range(i+1,n):\n",
    "            if(B[i]+B[j]==A):\n",
    "                return(1)\n",
    "                break\n",
    "    return(0)\n"
   ]
  },
  {
   "cell_type": "code",
   "execution_count": null,
   "id": "862ea7d2",
   "metadata": {},
   "outputs": [],
   "source": []
  }
 ],
 "metadata": {
  "kernelspec": {
   "display_name": "Python 3",
   "language": "python",
   "name": "python3"
  },
  "language_info": {
   "codemirror_mode": {
    "name": "ipython",
    "version": 3
   },
   "file_extension": ".py",
   "mimetype": "text/x-python",
   "name": "python",
   "nbconvert_exporter": "python",
   "pygments_lexer": "ipython3",
   "version": "3.8.8"
  }
 },
 "nbformat": 4,
 "nbformat_minor": 5
}
